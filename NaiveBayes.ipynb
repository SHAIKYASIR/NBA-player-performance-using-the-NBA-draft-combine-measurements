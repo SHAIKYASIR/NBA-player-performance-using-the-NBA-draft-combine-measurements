{
  "nbformat": 4,
  "nbformat_minor": 0,
  "metadata": {
    "colab": {
      "provenance": []
    },
    "kernelspec": {
      "name": "python3",
      "display_name": "Python 3"
    },
    "language_info": {
      "name": "python"
    }
  },
  "cells": [
    {
      "cell_type": "markdown",
      "source": [
        "# **Naive Bayes Classification - Implementation**"
      ],
      "metadata": {
        "id": "ytmXJBL3qPjo"
      }
    },
    {
      "cell_type": "code",
      "execution_count": null,
      "metadata": {
        "id": "WiC3dFzRe444"
      },
      "outputs": [],
      "source": [
        "# importing the libraries\n",
        "import numpy as np\n",
        "import matplotlib.pyplot as plt\n",
        "import pandas as pd\n",
        "import seaborn as sns\n",
        "from numpy.ma.core import count"
      ]
    },
    {
      "cell_type": "markdown",
      "source": [
        "**Once we have imported all the required modules, the next step is to import the data set and split the data sets into inputs and outputs.**"
      ],
      "metadata": {
        "id": "6zUPxkGqjlV8"
      }
    },
    {
      "cell_type": "code",
      "source": [
        "# importing the dataset\n",
        "dataset = pd.read_csv('NaiveBayes.csv')\n",
        "\n",
        "# split the data into inputs and outputs\n",
        "X = dataset.iloc[:, [0,1]].values\n",
        "y = dataset.iloc[:, 2].values"
      ],
      "metadata": {
        "id": "BuVm9YfffLck"
      },
      "execution_count": null,
      "outputs": []
    },
    {
      "cell_type": "code",
      "source": [
        "print(count(X))"
      ],
      "metadata": {
        "colab": {
          "base_uri": "https://localhost:8080/"
        },
        "id": "6GNGuoJETVWF",
        "outputId": "ac6a77b0-3332-44ed-9342-b523f4e5ccdf"
      },
      "execution_count": null,
      "outputs": [
        {
          "output_type": "stream",
          "name": "stdout",
          "text": [
            "800\n"
          ]
        }
      ]
    },
    {
      "cell_type": "markdown",
      "source": [
        "**The next step is to divide the input and output values into the training and testing part so that once the training of the model is complete, we can evaluate its performance using testing data.**"
      ],
      "metadata": {
        "id": "BgOg3hk0jvSc"
      }
    },
    {
      "cell_type": "code",
      "source": [
        "# training and testing data\n",
        "from sklearn.model_selection import train_test_split\n",
        "\n",
        "# assign test data size 25%\n",
        "X_train, X_test, y_train, y_test =train_test_split(X,y,test_size= 0.25, random_state=0)"
      ],
      "metadata": {
        "id": "4R9_T3WnfOn9"
      },
      "execution_count": null,
      "outputs": []
    },
    {
      "cell_type": "code",
      "source": [
        "from numpy.ma.core import count\n",
        "print(count(X_test))"
      ],
      "metadata": {
        "colab": {
          "base_uri": "https://localhost:8080/"
        },
        "id": "KZe_MTZKSqbC",
        "outputId": "0a84f9a0-e132-4e4b-89aa-dc940111fd58"
      },
      "execution_count": null,
      "outputs": [
        {
          "output_type": "stream",
          "name": "stdout",
          "text": [
            "200\n"
          ]
        }
      ]
    },
    {
      "cell_type": "markdown",
      "source": [
        "**We set test_size=0.25, which means 25% of the whole data set will be assigned to the testing part and the remaining 75% will be used for the model’s training.**\n",
        "**The next step is to scale our dataset to be ready to be used for the training.**"
      ],
      "metadata": {
        "id": "uhIM9EN9junr"
      }
    },
    {
      "cell_type": "code",
      "source": [
        "# importing standard scaler\n",
        "from sklearn.preprocessing import StandardScaler\n",
        "\n",
        "# scalling the input data\n",
        "sc_X = StandardScaler()\n",
        "X_train = sc_X.fit_transform(X_train)\n",
        "X_test = sc_X.fit_transform(X_test)"
      ],
      "metadata": {
        "id": "40RtvU4FfSbM"
      },
      "execution_count": null,
      "outputs": []
    },
    {
      "cell_type": "code",
      "source": [
        "print (X_train)"
      ],
      "metadata": {
        "id": "DYmlUO8WSVp7",
        "colab": {
          "base_uri": "https://localhost:8080/"
        },
        "outputId": "87930ed4-f687-4ee0-a949-b35dcc8e9d36"
      },
      "execution_count": null,
      "outputs": [
        {
          "output_type": "stream",
          "name": "stdout",
          "text": [
            "[[ 0.58164944 -0.88670699]\n",
            " [-0.60673761  1.46173768]\n",
            " [-0.01254409 -0.5677824 ]\n",
            " [-0.60673761  1.89663484]\n",
            " [ 1.37390747 -1.40858358]\n",
            " [ 1.47293972  0.99784738]\n",
            " [ 0.08648817 -0.79972756]\n",
            " [-0.01254409 -0.24885782]\n",
            " [-0.21060859 -0.5677824 ]\n",
            " [-0.21060859 -0.19087153]\n",
            " [-0.30964085 -1.29261101]\n",
            " [-0.30964085 -0.5677824 ]\n",
            " [ 0.38358493  0.09905991]\n",
            " [ 0.8787462  -0.59677555]\n",
            " [ 2.06713324 -1.17663843]\n",
            " [ 1.07681071 -0.13288524]\n",
            " [ 0.68068169  1.78066227]\n",
            " [-0.70576986  0.56295021]\n",
            " [ 0.77971394  0.35999821]\n",
            " [ 0.8787462  -0.53878926]\n",
            " [-1.20093113 -1.58254245]\n",
            " [ 2.1661655   0.93986109]\n",
            " [-0.01254409  1.22979253]\n",
            " [ 0.18552042  1.08482681]\n",
            " [ 0.38358493 -0.48080297]\n",
            " [-0.30964085 -0.30684411]\n",
            " [ 0.97777845 -0.8287207 ]\n",
            " [ 0.97777845  1.8676417 ]\n",
            " [-0.01254409  1.25878567]\n",
            " [-0.90383437  2.27354572]\n",
            " [-1.20093113 -1.58254245]\n",
            " [ 2.1661655  -0.79972756]\n",
            " [-1.39899564 -1.46656987]\n",
            " [ 0.38358493  2.30253886]\n",
            " [ 0.77971394  0.76590222]\n",
            " [-1.00286662 -0.30684411]\n",
            " [ 0.08648817  0.76590222]\n",
            " [-1.00286662  0.56295021]\n",
            " [ 0.28455268  0.07006676]\n",
            " [ 0.68068169 -1.26361786]\n",
            " [-0.50770535 -0.01691267]\n",
            " [-1.79512465  0.35999821]\n",
            " [-0.70576986  0.12805305]\n",
            " [ 0.38358493  0.30201192]\n",
            " [-0.30964085  0.07006676]\n",
            " [-0.50770535  2.30253886]\n",
            " [ 0.18552042  0.04107362]\n",
            " [ 1.27487521  2.21555943]\n",
            " [ 0.77971394  0.27301877]\n",
            " [-0.30964085  0.1570462 ]\n",
            " [-0.01254409 -0.53878926]\n",
            " [-0.21060859  0.1570462 ]\n",
            " [-0.11157634  0.24402563]\n",
            " [-0.01254409 -0.24885782]\n",
            " [ 2.1661655   1.11381995]\n",
            " [-1.79512465  0.35999821]\n",
            " [ 1.86906873  0.12805305]\n",
            " [ 0.38358493 -0.13288524]\n",
            " [-1.20093113  0.30201192]\n",
            " [ 0.77971394  1.37475825]\n",
            " [-0.30964085 -0.24885782]\n",
            " [-1.6960924  -0.04590581]\n",
            " [-1.00286662 -0.74174127]\n",
            " [ 0.28455268  0.50496393]\n",
            " [-0.11157634 -1.06066585]\n",
            " [-1.10189888  0.59194336]\n",
            " [ 0.08648817 -0.79972756]\n",
            " [-1.00286662  1.54871711]\n",
            " [-0.70576986  1.40375139]\n",
            " [-1.29996338  0.50496393]\n",
            " [-0.30964085  0.04107362]\n",
            " [-0.11157634  0.01208048]\n",
            " [-0.30964085 -0.88670699]\n",
            " [ 0.8787462  -1.3505973 ]\n",
            " [-0.30964085  2.24455257]\n",
            " [ 0.97777845  1.98361427]\n",
            " [-1.20093113  0.47597078]\n",
            " [-1.29996338  0.27301877]\n",
            " [ 1.37390747  1.98361427]\n",
            " [ 1.27487521 -1.3505973 ]\n",
            " [-0.30964085 -0.27785096]\n",
            " [-0.50770535  1.25878567]\n",
            " [-0.80480212  1.08482681]\n",
            " [ 0.97777845 -1.06066585]\n",
            " [ 0.28455268  0.30201192]\n",
            " [ 0.97777845  0.76590222]\n",
            " [-0.70576986 -1.49556302]\n",
            " [-0.70576986  0.04107362]\n",
            " [ 0.48261718  1.72267598]\n",
            " [ 2.06713324  0.18603934]\n",
            " [-1.99318916 -0.74174127]\n",
            " [-0.21060859  1.40375139]\n",
            " [ 0.38358493  0.59194336]\n",
            " [ 0.8787462  -1.14764529]\n",
            " [-1.20093113 -0.77073441]\n",
            " [ 0.18552042  0.24402563]\n",
            " [ 0.77971394 -0.30684411]\n",
            " [ 2.06713324 -0.79972756]\n",
            " [ 0.77971394  0.12805305]\n",
            " [-0.30964085  0.6209365 ]\n",
            " [-1.00286662 -0.30684411]\n",
            " [ 0.18552042 -0.3648304 ]\n",
            " [ 2.06713324  2.12857999]\n",
            " [ 1.86906873 -1.26361786]\n",
            " [ 1.37390747 -0.91570013]\n",
            " [ 0.8787462   1.25878567]\n",
            " [ 1.47293972  2.12857999]\n",
            " [-0.30964085 -1.23462472]\n",
            " [ 1.96810099  0.91086794]\n",
            " [ 0.68068169 -0.71274813]\n",
            " [-1.49802789  0.35999821]\n",
            " [ 0.77971394 -1.3505973 ]\n",
            " [ 0.38358493 -0.13288524]\n",
            " [-1.00286662  0.41798449]\n",
            " [-0.01254409 -0.30684411]\n",
            " [-1.20093113  0.41798449]\n",
            " [-0.90383437 -1.20563157]\n",
            " [-0.11157634  0.04107362]\n",
            " [-1.59706014 -0.42281668]\n",
            " [ 0.97777845 -1.00267957]\n",
            " [ 1.07681071 -1.20563157]\n",
            " [-0.01254409 -0.13288524]\n",
            " [-1.10189888 -1.52455616]\n",
            " [ 0.77971394 -1.20563157]\n",
            " [ 0.97777845  2.07059371]\n",
            " [-1.20093113 -1.52455616]\n",
            " [-0.30964085  0.79489537]\n",
            " [ 0.08648817 -0.30684411]\n",
            " [-1.39899564 -1.23462472]\n",
            " [-0.60673761 -1.49556302]\n",
            " [ 0.77971394  0.53395707]\n",
            " [-0.30964085 -0.33583725]\n",
            " [ 1.77003648 -0.27785096]\n",
            " [ 0.8787462  -1.03167271]\n",
            " [ 0.18552042  0.07006676]\n",
            " [-0.60673761  0.8818748 ]\n",
            " [-1.89415691 -1.40858358]\n",
            " [-1.29996338  0.59194336]\n",
            " [-0.30964085  0.53395707]\n",
            " [-1.00286662 -1.089659  ]\n",
            " [ 1.17584296 -1.43757673]\n",
            " [ 0.18552042 -0.30684411]\n",
            " [ 1.17584296 -0.74174127]\n",
            " [-0.30964085  0.07006676]\n",
            " [ 0.18552042  2.09958685]\n",
            " [ 0.77971394 -1.089659  ]\n",
            " [ 0.08648817  0.04107362]\n",
            " [-1.79512465  0.12805305]\n",
            " [-0.90383437  0.1570462 ]\n",
            " [-0.70576986  0.18603934]\n",
            " [ 0.8787462  -1.29261101]\n",
            " [ 0.18552042 -0.24885782]\n",
            " [-0.4086731   1.22979253]\n",
            " [-0.01254409  0.30201192]\n",
            " [ 0.38358493  0.1570462 ]\n",
            " [ 0.8787462  -0.65476184]\n",
            " [ 0.08648817  0.1570462 ]\n",
            " [-1.89415691 -1.29261101]\n",
            " [-0.11157634  0.30201192]\n",
            " [-0.21060859 -0.27785096]\n",
            " [ 0.28455268 -0.50979612]\n",
            " [-0.21060859  1.6067034 ]\n",
            " [ 0.97777845 -1.17663843]\n",
            " [-0.21060859  1.63569655]\n",
            " [ 1.27487521  1.8676417 ]\n",
            " [-1.10189888 -0.3648304 ]\n",
            " [-0.01254409  0.04107362]\n",
            " [ 0.08648817 -0.24885782]\n",
            " [-1.59706014 -1.23462472]\n",
            " [-0.50770535 -0.27785096]\n",
            " [ 0.97777845  0.12805305]\n",
            " [ 1.96810099 -1.3505973 ]\n",
            " [ 1.47293972  0.07006676]\n",
            " [-0.60673761  1.37475825]\n",
            " [ 1.57197197  0.01208048]\n",
            " [-0.80480212  0.30201192]\n",
            " [ 1.96810099  0.73690908]\n",
            " [-1.20093113 -0.50979612]\n",
            " [ 0.68068169  0.27301877]\n",
            " [-1.39899564 -0.42281668]\n",
            " [ 0.18552042  0.1570462 ]\n",
            " [-0.50770535 -1.20563157]\n",
            " [ 0.58164944  2.01260742]\n",
            " [-1.59706014 -1.49556302]\n",
            " [-0.50770535 -0.53878926]\n",
            " [ 0.48261718  1.83864855]\n",
            " [-1.39899564 -1.089659  ]\n",
            " [ 0.77971394 -1.37959044]\n",
            " [-0.30964085 -0.42281668]\n",
            " [ 1.57197197  0.99784738]\n",
            " [ 0.97777845  1.43274454]\n",
            " [-0.30964085 -0.48080297]\n",
            " [-0.11157634  2.15757314]\n",
            " [-1.49802789 -0.1038921 ]\n",
            " [-0.11157634  1.95462113]\n",
            " [-0.70576986 -0.33583725]\n",
            " [-0.50770535 -0.8287207 ]\n",
            " [ 0.68068169 -1.37959044]\n",
            " [-0.80480212 -1.58254245]\n",
            " [-1.89415691 -1.46656987]\n",
            " [ 1.07681071  0.12805305]\n",
            " [ 0.08648817  1.51972397]\n",
            " [-0.30964085  0.09905991]\n",
            " [ 0.08648817  0.04107362]\n",
            " [-1.39899564 -1.3505973 ]\n",
            " [ 0.28455268  0.07006676]\n",
            " [-0.90383437  0.38899135]\n",
            " [ 1.57197197 -1.26361786]\n",
            " [-0.30964085 -0.74174127]\n",
            " [-0.11157634  0.1570462 ]\n",
            " [-0.90383437 -0.65476184]\n",
            " [-0.70576986 -0.04590581]\n",
            " [ 0.38358493 -0.45180983]\n",
            " [-0.80480212  1.89663484]\n",
            " [ 1.37390747  1.28777882]\n",
            " [ 1.17584296 -0.97368642]\n",
            " [ 1.77003648  1.83864855]\n",
            " [-0.90383437 -0.24885782]\n",
            " [-0.80480212  0.56295021]\n",
            " [-1.20093113 -1.5535493 ]\n",
            " [-0.50770535 -1.11865214]\n",
            " [ 0.28455268  0.07006676]\n",
            " [-0.21060859 -1.06066585]\n",
            " [ 1.67100423  1.6067034 ]\n",
            " [ 0.97777845  1.78066227]\n",
            " [ 0.28455268  0.04107362]\n",
            " [-0.80480212 -0.21986468]\n",
            " [-0.11157634  0.07006676]\n",
            " [ 0.28455268 -0.19087153]\n",
            " [ 1.96810099 -0.65476184]\n",
            " [-0.80480212  1.3457651 ]\n",
            " [-1.79512465 -0.59677555]\n",
            " [-0.11157634  0.12805305]\n",
            " [ 0.28455268 -0.30684411]\n",
            " [ 1.07681071  0.56295021]\n",
            " [-1.00286662  0.27301877]\n",
            " [ 1.47293972  0.35999821]\n",
            " [ 0.18552042 -0.3648304 ]\n",
            " [ 2.1661655  -1.03167271]\n",
            " [-0.30964085  1.11381995]\n",
            " [-1.6960924   0.07006676]\n",
            " [-0.01254409  0.04107362]\n",
            " [ 0.08648817  1.05583366]\n",
            " [-0.11157634 -0.3648304 ]\n",
            " [-1.20093113  0.07006676]\n",
            " [-0.30964085 -1.3505973 ]\n",
            " [ 1.57197197  1.11381995]\n",
            " [-0.80480212 -1.52455616]\n",
            " [ 0.08648817  1.8676417 ]\n",
            " [-0.90383437 -0.77073441]\n",
            " [-0.50770535 -0.77073441]\n",
            " [-0.30964085 -0.91570013]\n",
            " [ 0.28455268 -0.71274813]\n",
            " [ 0.28455268  0.07006676]\n",
            " [ 0.08648817  1.8676417 ]\n",
            " [-1.10189888  1.95462113]\n",
            " [-1.6960924  -1.5535493 ]\n",
            " [-1.20093113 -1.089659  ]\n",
            " [-0.70576986 -0.1038921 ]\n",
            " [ 0.08648817  0.09905991]\n",
            " [ 0.28455268  0.27301877]\n",
            " [ 0.8787462  -0.5677824 ]\n",
            " [ 0.28455268 -1.14764529]\n",
            " [-0.11157634  0.67892279]\n",
            " [ 2.1661655  -0.68375498]\n",
            " [-1.29996338 -1.37959044]\n",
            " [-1.00286662 -0.94469328]\n",
            " [-0.01254409 -0.42281668]\n",
            " [-0.21060859 -0.45180983]\n",
            " [-1.79512465 -0.97368642]\n",
            " [ 1.77003648  0.99784738]\n",
            " [ 0.18552042 -0.3648304 ]\n",
            " [ 0.38358493  1.11381995]\n",
            " [-1.79512465 -1.3505973 ]\n",
            " [ 0.18552042 -0.13288524]\n",
            " [ 0.8787462  -1.43757673]\n",
            " [-1.99318916  0.47597078]\n",
            " [-0.30964085  0.27301877]\n",
            " [ 1.86906873 -1.06066585]\n",
            " [-0.4086731   0.07006676]\n",
            " [ 1.07681071 -0.88670699]\n",
            " [-1.10189888 -1.11865214]\n",
            " [-1.89415691  0.01208048]\n",
            " [ 0.08648817  0.27301877]\n",
            " [-1.20093113  0.33100506]\n",
            " [-1.29996338  0.30201192]\n",
            " [-1.00286662  0.44697764]\n",
            " [ 1.67100423 -0.88670699]\n",
            " [ 1.17584296  0.53395707]\n",
            " [ 1.07681071  0.53395707]\n",
            " [ 1.37390747  2.331532  ]\n",
            " [-0.30964085 -0.13288524]\n",
            " [ 0.38358493 -0.45180983]\n",
            " [-0.4086731  -0.77073441]\n",
            " [-0.11157634 -0.50979612]\n",
            " [ 0.97777845 -1.14764529]\n",
            " [-0.90383437 -0.77073441]\n",
            " [-0.21060859 -0.50979612]\n",
            " [-1.10189888 -0.45180983]\n",
            " [-1.20093113  1.40375139]]\n"
          ]
        }
      ]
    },
    {
      "cell_type": "markdown",
      "source": [
        "**Note: scaling (or standardization) of a dataset is a common requirement for many machine learning estimators: they might behave badly if the individual features do not more or less look like standard normally distributed data.**"
      ],
      "metadata": {
        "id": "lx9iPWfHkV9j"
      }
    },
    {
      "cell_type": "markdown",
      "source": [
        "# Training the model using Bernolli Naive Bayes classifier"
      ],
      "metadata": {
        "id": "w2lSZnqCkZ63"
      }
    },
    {
      "cell_type": "code",
      "source": [
        "# importing classifier\n",
        "from sklearn.naive_bayes import BernoulliNB\n",
        "\n",
        "# initializaing the NB\n",
        "classifer = BernoulliNB()\n",
        "\n",
        "# training the model\n",
        "classifer.fit(X_train, y_train)\n",
        "\n",
        "# testing the model\n",
        "y_pred = classifer.predict(X_test)"
      ],
      "metadata": {
        "id": "FP8t3In8fV9W"
      },
      "execution_count": null,
      "outputs": []
    },
    {
      "cell_type": "markdown",
      "source": [
        "**Now let us check the accuracy of the predicted values using the Bernoulli Naive Bayes classifier.**"
      ],
      "metadata": {
        "id": "ARx119-GkZKE"
      }
    },
    {
      "cell_type": "code",
      "source": [
        "# importing accuracy score\n",
        "from sklearn.metrics import accuracy_score\n",
        "\n",
        "# printing the accuracy of the model\n",
        "print(accuracy_score(y_pred, y_test))"
      ],
      "metadata": {
        "colab": {
          "base_uri": "https://localhost:8080/"
        },
        "id": "tp-0cr1SfYwt",
        "outputId": "0093b8f5-ff39-4063-d8b5-c8933debf07f"
      },
      "execution_count": null,
      "outputs": [
        {
          "output_type": "stream",
          "name": "stdout",
          "text": [
            "0.8\n"
          ]
        }
      ]
    },
    {
      "cell_type": "markdown",
      "source": [
        "# We got an accuracy of 80% when we trained our model using Bernoulli Naive Bayes classifier."
      ],
      "metadata": {
        "id": "Nu4AMjUWkpUE"
      }
    },
    {
      "cell_type": "markdown",
      "source": [
        "# Training model using Gaussian Naive Bayes Classifier"
      ],
      "metadata": {
        "id": "UqyqZCoxkyL-"
      }
    },
    {
      "cell_type": "code",
      "source": [
        "# import Gaussian Naive Bayes classifier\n",
        "from sklearn.naive_bayes import GaussianNB\n",
        "\n",
        "# create a Gaussian Classifier\n",
        "classifer1 = GaussianNB()\n",
        "\n",
        "# training the model\n",
        "classifer1.fit(X_train, y_train)\n",
        "\n",
        "# testing the model\n",
        "y_pred1 = classifer1.predict(X_test)"
      ],
      "metadata": {
        "id": "V-oTMzy3fdgs"
      },
      "execution_count": null,
      "outputs": []
    },
    {
      "cell_type": "code",
      "source": [
        "# importing accuracy score\n",
        "from sklearn.metrics import accuracy_score\n",
        "\n",
        "# printing the accuracy of the model\n",
        "print(accuracy_score(y_test,y_pred1))"
      ],
      "metadata": {
        "colab": {
          "base_uri": "https://localhost:8080/"
        },
        "id": "HSA2ET12fg5d",
        "outputId": "0309d2b0-3d54-4c6e-bb5e-80254b4e5455"
      },
      "execution_count": null,
      "outputs": [
        {
          "output_type": "stream",
          "name": "stdout",
          "text": [
            "0.91\n"
          ]
        }
      ]
    },
    {
      "cell_type": "markdown",
      "source": [
        "# **This time we got an accuracy of 91% when we trained the model on the same dataset.**"
      ],
      "metadata": {
        "id": "3HncFnjnk5b4"
      }
    },
    {
      "cell_type": "code",
      "source": [
        "# importing the required modules\n",
        "import seaborn as sns\n",
        "from sklearn.metrics import confusion_matrix\n",
        "\n",
        "# passing actual and predicted values\n",
        "cm = confusion_matrix(y_test, y_pred)\n",
        "\n",
        "# true write data values in each cell of the matrix\n",
        "sns.heatmap(cm, annot=True)\n",
        "plt.savefig('confusion.png')"
      ],
      "metadata": {
        "colab": {
          "base_uri": "https://localhost:8080/",
          "height": 430
        },
        "id": "mH3cN09Mfknn",
        "outputId": "98a93bcf-6c52-4489-d319-083a8f0889b5"
      },
      "execution_count": null,
      "outputs": [
        {
          "output_type": "display_data",
          "data": {
            "text/plain": [
              "<Figure size 640x480 with 2 Axes>"
            ],
            "image/png": "[encoded data removed]"
          },
          "metadata": {}
        }
      ]
    },
    {
      "cell_type": "markdown",
      "source": [
        "The confusion matrix helps us know which class has been mispredicted.\n",
        "\n",
        "We can also print the classification report, which will help us further evaluate our model’s performance."
      ],
      "metadata": {
        "id": "5q5dpLcLmGsF"
      }
    },
    {
      "cell_type": "code",
      "source": [
        "# importing classification report\n",
        "from sklearn.metrics import classification_report\n",
        "\n",
        "# printing the report\n",
        "print(classification_report(y_test, y_pred))"
      ],
      "metadata": {
        "colab": {
          "base_uri": "https://localhost:8080/"
        },
        "id": "VNColYjhfn-7",
        "outputId": "54485927-54c2-4d06-f9c6-7b4f291e4c6a"
      },
      "execution_count": null,
      "outputs": [
        {
          "output_type": "stream",
          "name": "stdout",
          "text": [
            "              precision    recall  f1-score   support\n",
            "\n",
            "           0       0.82      0.91      0.86        68\n",
            "           1       0.75      0.56      0.64        32\n",
            "\n",
            "    accuracy                           0.80       100\n",
            "   macro avg       0.78      0.74      0.75       100\n",
            "weighted avg       0.79      0.80      0.79       100\n",
            "\n"
          ]
        }
      ]
    },
    {
      "cell_type": "markdown",
      "source": [
        "**Note: the Gaussian naive Bayes classifier performed very well on this dataset, as shown in the confusion matrix. Let us now print out the classification report as well,**"
      ],
      "metadata": {
        "id": "c8vK73wVmM4G"
      }
    },
    {
      "cell_type": "code",
      "source": [
        "# importing the required modules\n",
        "import seaborn as sns\n",
        "from sklearn.metrics import confusion_matrix\n",
        "\n",
        "# passing actual and predicted values\n",
        "cm = confusion_matrix(y_test, y_pred1)\n",
        "\n",
        "# true write data values in each cell of the matrix\n",
        "sns.heatmap(cm,annot=True)\n",
        "plt.savefig('confusion.png')"
      ],
      "metadata": {
        "colab": {
          "base_uri": "https://localhost:8080/",
          "height": 430
        },
        "id": "Bt9ZhqUOftcv",
        "outputId": "ed7775a7-fe3a-47d1-c721-f4ea185a6730"
      },
      "execution_count": null,
      "outputs": [
        {
          "output_type": "display_data",
          "data": {
            "text/plain": [
              "<Figure size 640x480 with 2 Axes>"
            ],
            "image/png": "[encoded data removed]"
          },
          "metadata": {}
        }
      ]
    },
    {
      "cell_type": "code",
      "source": [
        "# importing classification report\n",
        "from sklearn.metrics import classification_report\n",
        "\n",
        "# printing the report\n",
        "print(classification_report(y_test, y_pred1))"
      ],
      "metadata": {
        "colab": {
          "base_uri": "https://localhost:8080/"
        },
        "id": "aYXctkgDfwUk",
        "outputId": "beaaa9dc-6527-454d-91b0-7c5ea95d92d4"
      },
      "execution_count": null,
      "outputs": [
        {
          "output_type": "stream",
          "name": "stdout",
          "text": [
            "              precision    recall  f1-score   support\n",
            "\n",
            "           0       0.93      0.94      0.93        68\n",
            "           1       0.87      0.84      0.86        32\n",
            "\n",
            "    accuracy                           0.91       100\n",
            "   macro avg       0.90      0.89      0.90       100\n",
            "weighted avg       0.91      0.91      0.91       100\n",
            "\n"
          ]
        }
      ]
    },
    {
      "cell_type": "markdown",
      "source": [
        "# Features Encoding\n",
        "\n",
        "**In real life, the data does not always consist of numeric values. For example, playing or not playing are not numeric values. In such scenarios, we need to convert the non-numeric data to numeric values before feeding data to our model. For example, we have the following dataset about whether players will play sport or not, depending on the weather and temperature.**"
      ],
      "metadata": {
        "id": "P6wVkNPTmSrd"
      }
    },
    {
      "cell_type": "code",
      "source": [
        "# assigning features and label variables\n",
        "weather = ['Sunny','Sunny','Overcast','Rainy','Rainy','Rainy','Overcast','Sunny','Sunny', 'Rainy','Sunny','Overcast','Overcast','Rainy']\n",
        "\n",
        "# output class\n",
        "play = ['No','No','Yes','Yes','Yes','No','Yes','No','Yes','Yes','Yes','Yes','Yes','No']"
      ],
      "metadata": {
        "id": "_kF2H9Q0gNqz"
      },
      "execution_count": null,
      "outputs": []
    },
    {
      "cell_type": "code",
      "source": [
        "# Import LabelEncoder\n",
        "from sklearn import preprocessing\n",
        "\n",
        "# creating LabelEncoder\n",
        "labelCode = preprocessing.LabelEncoder()\n",
        "\n",
        "# Converting string labels into numbers.\n",
        "weather_encoded=labelCode.fit_transform(weather)"
      ],
      "metadata": {
        "id": "uAuoT9z5gRAt"
      },
      "execution_count": null,
      "outputs": []
    },
    {
      "cell_type": "markdown",
      "source": [
        "***Note: the input and output both are not numeric values. Before feeding this data to our model, we have to encode the non-numeric values into numeric ones. for example, Overcast = 0, Rainy = 1, Sunny = 2. This is called label encoding.***"
      ],
      "metadata": {
        "id": "ollTUMu6mbFt"
      }
    },
    {
      "cell_type": "code",
      "source": [
        "print(weather_encoded)"
      ],
      "metadata": {
        "colab": {
          "base_uri": "https://localhost:8080/"
        },
        "id": "hioaVahZgTzj",
        "outputId": "8ea290d2-83b6-4c43-830a-93bb74bf3bc2"
      },
      "execution_count": null,
      "outputs": [
        {
          "output_type": "stream",
          "name": "stdout",
          "text": [
            "[2 2 0 1 1 1 0 2 2 1 2 0 0 1]\n"
          ]
        }
      ]
    },
    {
      "cell_type": "markdown",
      "source": [
        "The LabelEncoder will convert the string values to numeric values. For example, if we print the encoded weather, it will no longer contain numeric values."
      ],
      "metadata": {
        "id": "LuwNOD_6miJt"
      }
    },
    {
      "cell_type": "code",
      "source": [
        "# import LabelEncoder\n",
        "from sklearn import preprocessing\n",
        "\n",
        "# creating LabelEncoder\n",
        "labelCode = preprocessing.LabelEncoder()\n",
        "\n",
        "# converting string labels into numbers.\n",
        "label=labelCode.fit_transform(play)"
      ],
      "metadata": {
        "id": "r8UkJa2QgdWN"
      },
      "execution_count": null,
      "outputs": []
    },
    {
      "cell_type": "markdown",
      "source": [
        "**Generating model**\n",
        "\n",
        "We have already seen that our input values are in a single-dimensional array. By default, the model training takes values in multi-dimensional arrays. If we feed the data without further changes, we will get the following error."
      ],
      "metadata": {
        "id": "CvCfxpdVnbdx"
      }
    },
    {
      "cell_type": "code",
      "source": [
        "weather_encoded"
      ],
      "metadata": {
        "colab": {
          "base_uri": "https://localhost:8080/"
        },
        "id": "cYFFNSAAEPZL",
        "outputId": "4fd58f46-f6b3-44b0-d494-85f2ee7ddf2c"
      },
      "execution_count": null,
      "outputs": [
        {
          "output_type": "execute_result",
          "data": {
            "text/plain": [
              "array([2, 2, 0, 1, 1, 1, 0, 2, 2, 1, 2, 0, 0, 1])"
            ]
          },
          "metadata": {},
          "execution_count": 31
        }
      ]
    },
    {
      "cell_type": "markdown",
      "source": [
        "So, we need to convert our data to the 2D array before feeding it to our model. Here we will use NumPy array and reshape() method to create a 2D array."
      ],
      "metadata": {
        "id": "Al_ML5RrnjxG"
      }
    },
    {
      "cell_type": "code",
      "source": [
        "# importing numpy module\n",
        "import numpy as np\n",
        "\n",
        "# converting 1D array to 2D\n",
        "weather_2d = np.reshape(weather_encoded, (-1, 1))"
      ],
      "metadata": {
        "id": "4hkxPdnmgqmV"
      },
      "execution_count": null,
      "outputs": []
    },
    {
      "cell_type": "code",
      "source": [
        "weather_2d"
      ],
      "metadata": {
        "colab": {
          "base_uri": "https://localhost:8080/"
        },
        "id": "ROYkyf75EGSL",
        "outputId": "99bf1cfb-d8a9-4b1d-eba9-fd29f8d13c41"
      },
      "execution_count": null,
      "outputs": [
        {
          "output_type": "execute_result",
          "data": {
            "text/plain": [
              "array([[2],\n",
              "       [2],\n",
              "       [0],\n",
              "       [1],\n",
              "       [1],\n",
              "       [1],\n",
              "       [0],\n",
              "       [2],\n",
              "       [2],\n",
              "       [1],\n",
              "       [2],\n",
              "       [0],\n",
              "       [0],\n",
              "       [1]])"
            ]
          },
          "metadata": {},
          "execution_count": 33
        }
      ]
    },
    {
      "cell_type": "code",
      "source": [
        "# import Gaussian Naive Bayes model\n",
        "from sklearn.naive_bayes import GaussianNB\n",
        "\n",
        "# create a Gaussian Classifier\n",
        "model = GaussianNB()\n",
        "\n",
        "# train the model using the training sets\n",
        "model.fit(weather_2d, label)"
      ],
      "metadata": {
        "colab": {
          "base_uri": "https://localhost:8080/",
          "height": 75
        },
        "id": "oDNszamvhH_V",
        "outputId": "94e236c9-b0f8-4116-b3eb-8a942dd930cf"
      },
      "execution_count": null,
      "outputs": [
        {
          "output_type": "execute_result",
          "data": {
            "text/plain": [
              "GaussianNB()"
            ],
            "text/html": [
              "<style>#sk-container-id-1 {color: black;background-color: white;}#sk-container-id-1 pre{padding: 0;}#sk-container-id-1 div.sk-toggleable {background-color: white;}#sk-container-id-1 label.sk-toggleable__label {cursor: pointer;display: block;width: 100%;margin-bottom: 0;padding: 0.3em;box-sizing: border-box;text-align: center;}#sk-container-id-1 label.sk-toggleable__label-arrow:before {content: \"▸\";float: left;margin-right: 0.25em;color: #696969;}#sk-container-id-1 label.sk-toggleable__label-arrow:hover:before {color: black;}#sk-container-id-1 div.sk-estimator:hover label.sk-toggleable__label-arrow:before {color: black;}#sk-container-id-1 div.sk-toggleable__content {max-height: 0;max-width: 0;overflow: hidden;text-align: left;background-color: #f0f8ff;}#sk-container-id-1 div.sk-toggleable__content pre {margin: 0.2em;color: black;border-radius: 0.25em;background-color: #f0f8ff;}#sk-container-id-1 input.sk-toggleable__control:checked~div.sk-toggleable__content {max-height: 200px;max-width: 100%;overflow: auto;}#sk-container-id-1 input.sk-toggleable__control:checked~label.sk-toggleable__label-arrow:before {content: \"▾\";}#sk-container-id-1 div.sk-estimator input.sk-toggleable__control:checked~label.sk-toggleable__label {background-color: #d4ebff;}#sk-container-id-1 div.sk-label input.sk-toggleable__control:checked~label.sk-toggleable__label {background-color: #d4ebff;}#sk-container-id-1 input.sk-hidden--visually {border: 0;clip: rect(1px 1px 1px 1px);clip: rect(1px, 1px, 1px, 1px);height: 1px;margin: -1px;overflow: hidden;padding: 0;position: absolute;width: 1px;}#sk-container-id-1 div.sk-estimator {font-family: monospace;background-color: #f0f8ff;border: 1px dotted black;border-radius: 0.25em;box-sizing: border-box;margin-bottom: 0.5em;}#sk-container-id-1 div.sk-estimator:hover {background-color: #d4ebff;}#sk-container-id-1 div.sk-parallel-item::after {content: \"\";width: 100%;border-bottom: 1px solid gray;flex-grow: 1;}#sk-container-id-1 div.sk-label:hover label.sk-toggleable__label {background-color: #d4ebff;}#sk-container-id-1 div.sk-serial::before {content: \"\";position: absolute;border-left: 1px solid gray;box-sizing: border-box;top: 0;bottom: 0;left: 50%;z-index: 0;}#sk-container-id-1 div.sk-serial {display: flex;flex-direction: column;align-items: center;background-color: white;padding-right: 0.2em;padding-left: 0.2em;position: relative;}#sk-container-id-1 div.sk-item {position: relative;z-index: 1;}#sk-container-id-1 div.sk-parallel {display: flex;align-items: stretch;justify-content: center;background-color: white;position: relative;}#sk-container-id-1 div.sk-item::before, #sk-container-id-1 div.sk-parallel-item::before {content: \"\";position: absolute;border-left: 1px solid gray;box-sizing: border-box;top: 0;bottom: 0;left: 50%;z-index: -1;}#sk-container-id-1 div.sk-parallel-item {display: flex;flex-direction: column;z-index: 1;position: relative;background-color: white;}#sk-container-id-1 div.sk-parallel-item:first-child::after {align-self: flex-end;width: 50%;}#sk-container-id-1 div.sk-parallel-item:last-child::after {align-self: flex-start;width: 50%;}#sk-container-id-1 div.sk-parallel-item:only-child::after {width: 0;}#sk-container-id-1 div.sk-dashed-wrapped {border: 1px dashed gray;margin: 0 0.4em 0.5em 0.4em;box-sizing: border-box;padding-bottom: 0.4em;background-color: white;}#sk-container-id-1 div.sk-label label {font-family: monospace;font-weight: bold;display: inline-block;line-height: 1.2em;}#sk-container-id-1 div.sk-label-container {text-align: center;}#sk-container-id-1 div.sk-container {/* jupyter's `normalize.less` sets `[hidden] { display: none; }` but bootstrap.min.css set `[hidden] { display: none !important; }` so we also need the `!important` here to be able to override the default hidden behavior on the sphinx rendered scikit-learn.org. See: https://github.com/scikit-learn/scikit-learn/issues/21755 */display: inline-block !important;position: relative;}#sk-container-id-1 div.sk-text-repr-fallback {display: none;}</style><div id=\"sk-container-id-1\" class=\"sk-top-container\"><div class=\"sk-text-repr-fallback\"><pre>GaussianNB()</pre><b>In a Jupyter environment, please rerun this cell to show the HTML representation or trust the notebook. <br />On GitHub, the HTML representation is unable to render, please try loading this page with nbviewer.org.</b></div><div class=\"sk-container\" hidden><div class=\"sk-item\"><div class=\"sk-estimator sk-toggleable\"><input class=\"sk-toggleable__control sk-hidden--visually\" id=\"sk-estimator-id-1\" type=\"checkbox\" checked><label for=\"sk-estimator-id-1\" class=\"sk-toggleable__label sk-toggleable__label-arrow\">GaussianNB</label><div class=\"sk-toggleable__content\"><pre>GaussianNB()</pre></div></div></div></div></div>"
            ]
          },
          "metadata": {},
          "execution_count": 34
        }
      ]
    },
    {
      "cell_type": "markdown",
      "source": [
        "We had used the Gaussian Naive Bayes classifier to train our model. Let us predict the output by providing a testing input."
      ],
      "metadata": {
        "id": "IslWW4zhnqW9"
      }
    },
    {
      "cell_type": "code",
      "source": [
        "# predicting the odel\n",
        "predicted= model.predict([[2]]) # 0:Overcast\n",
        "\n",
        "# printing predicted value\n",
        "print(predicted)"
      ],
      "metadata": {
        "colab": {
          "base_uri": "https://localhost:8080/"
        },
        "id": "ZHm6dbh6hNFS",
        "outputId": "be6676a0-fe36-4acb-edec-e03afb72d0db"
      },
      "execution_count": null,
      "outputs": [
        {
          "output_type": "stream",
          "name": "stdout",
          "text": [
            "[0]\n"
          ]
        }
      ]
    },
    {
      "cell_type": "markdown",
      "source": [
        "The output value 1 indicates that players will Play when there’s an Overcast weather."
      ],
      "metadata": {
        "id": "QarFwQTAnt2V"
      }
    },
    {
      "cell_type": "markdown",
      "source": [
        "# Naive Bayes Classification with Multiple Labels"
      ],
      "metadata": {
        "id": "JOWEHG_3n59c"
      }
    },
    {
      "cell_type": "markdown",
      "source": [
        "For the training, we will use the built-in data set from the sklearn module named load_wine. This dataset results from a chemical analysis of wines grown in the same region in Italy but derived from three different cultivars.\n",
        "\n",
        "The dataset consists of 13 features (alcohol, malic_acid, ash, alcalinity_of_ash, magnesium, total_phenols, flavanoids, nonflavanoid_phenols, proanthocyanins, color_intensity, hue, od280/od315_of_diluted_wines, proline) and type of wine cultivar. This data has three types of wine Class_0, Class_1, and Class_3. We can build a model to classify the type of wine using Naive Bayes Classification."
      ],
      "metadata": {
        "id": "Uf01TpNJn-NF"
      }
    },
    {
      "cell_type": "markdown",
      "source": [
        "# Loading and Exploring dataset"
      ],
      "metadata": {
        "id": "LRoCA-OSoDvG"
      }
    },
    {
      "cell_type": "code",
      "source": [
        "# import scikit-learn dataset library\n",
        "from sklearn import datasets\n",
        "\n",
        "# load dataset\n",
        "dataset = datasets.load_wine()"
      ],
      "metadata": {
        "id": "_53JwySShW67"
      },
      "execution_count": null,
      "outputs": []
    },
    {
      "cell_type": "markdown",
      "source": [
        "Next, we can print the input/features and target/output variables names to ensure the desired dataset."
      ],
      "metadata": {
        "id": "zX5zWs6voNp3"
      }
    },
    {
      "cell_type": "code",
      "source": [
        "# print the names of the 13 features\n",
        "print (\"Inputs: \", dataset.feature_names)\n",
        "\n",
        "# print the label type of wine\n",
        "print (\"Outputs: \", dataset.target_names)"
      ],
      "metadata": {
        "colab": {
          "base_uri": "https://localhost:8080/"
        },
        "id": "2IFEbfPZhZ1w",
        "outputId": "b6414fec-770a-4ff1-8ead-de5b1a23c0da"
      },
      "execution_count": null,
      "outputs": [
        {
          "output_type": "stream",
          "name": "stdout",
          "text": [
            "Inputs:  ['alcohol', 'malic_acid', 'ash', 'alcalinity_of_ash', 'magnesium', 'total_phenols', 'flavanoids', 'nonflavanoid_phenols', 'proanthocyanins', 'color_intensity', 'hue', 'od280/od315_of_diluted_wines', 'proline']\n",
            "Outputs:  ['class_0' 'class_1' 'class_2']\n"
          ]
        }
      ]
    },
    {
      "cell_type": "markdown",
      "source": [
        "We check the type of data (numeric/non-numeric) by printing three rows from the dataset."
      ],
      "metadata": {
        "id": "N8LphfJSoRNV"
      }
    },
    {
      "cell_type": "code",
      "source": [
        "# print the wine data features\n",
        "print(dataset.data[0:3])"
      ],
      "metadata": {
        "colab": {
          "base_uri": "https://localhost:8080/"
        },
        "id": "XDcx91huhfwx",
        "outputId": "7a61a595-3cce-44a9-9081-e44c6a17c1bf"
      },
      "execution_count": null,
      "outputs": [
        {
          "output_type": "stream",
          "name": "stdout",
          "text": [
            "[[1.423e+01 1.710e+00 2.430e+00 1.560e+01 1.270e+02 2.800e+00 3.060e+00\n",
            "  2.800e-01 2.290e+00 5.640e+00 1.040e+00 3.920e+00 1.065e+03]\n",
            " [1.320e+01 1.780e+00 2.140e+00 1.120e+01 1.000e+02 2.650e+00 2.760e+00\n",
            "  2.600e-01 1.280e+00 4.380e+00 1.050e+00 3.400e+00 1.050e+03]\n",
            " [1.316e+01 2.360e+00 2.670e+00 1.860e+01 1.010e+02 2.800e+00 3.240e+00\n",
            "  3.000e-01 2.810e+00 5.680e+00 1.030e+00 3.170e+00 1.185e+03]]\n"
          ]
        }
      ]
    },
    {
      "cell_type": "markdown",
      "source": [
        "We can also check the output values to verify that it is a multi-class classification dataset."
      ],
      "metadata": {
        "id": "hUYWPPUToUmG"
      }
    },
    {
      "cell_type": "code",
      "source": [
        "# print the wine labels\n",
        "print(dataset.target)"
      ],
      "metadata": {
        "colab": {
          "base_uri": "https://localhost:8080/"
        },
        "id": "GHr8PqBShjVS",
        "outputId": "846d1940-e7dd-4688-d065-cecf1f1ef4ce"
      },
      "execution_count": null,
      "outputs": [
        {
          "output_type": "stream",
          "name": "stdout",
          "text": [
            "[0 0 0 0 0 0 0 0 0 0 0 0 0 0 0 0 0 0 0 0 0 0 0 0 0 0 0 0 0 0 0 0 0 0 0 0 0\n",
            " 0 0 0 0 0 0 0 0 0 0 0 0 0 0 0 0 0 0 0 0 0 0 1 1 1 1 1 1 1 1 1 1 1 1 1 1 1\n",
            " 1 1 1 1 1 1 1 1 1 1 1 1 1 1 1 1 1 1 1 1 1 1 1 1 1 1 1 1 1 1 1 1 1 1 1 1 1\n",
            " 1 1 1 1 1 1 1 1 1 1 1 1 1 1 1 1 1 1 1 2 2 2 2 2 2 2 2 2 2 2 2 2 2 2 2 2 2\n",
            " 2 2 2 2 2 2 2 2 2 2 2 2 2 2 2 2 2 2 2 2 2 2 2 2 2 2 2 2 2 2]\n"
          ]
        }
      ]
    },
    {
      "cell_type": "markdown",
      "source": [
        "# Training the model using multiclass labels\n",
        "\n",
        "Before feeding the dataset to our model, let us split the dataset into training and testing parts to evaluate our model by providing the testing dataset."
      ],
      "metadata": {
        "id": "baJqnPG7oXCW"
      }
    },
    {
      "cell_type": "code",
      "source": [
        "# import train_test_split function\n",
        "from sklearn.model_selection import train_test_split\n",
        "\n",
        "# input and outputs\n",
        "inputs = dataset.data\n",
        "outputs = dataset.target\n",
        "\n",
        "# split dataset into training set and test set\n",
        "X_train, X_test, y_train, y_test = train_test_split(inputs, outputs, test_size=0.3, random_state=1)"
      ],
      "metadata": {
        "id": "owDZfBk-hofQ"
      },
      "execution_count": null,
      "outputs": []
    },
    {
      "cell_type": "code",
      "source": [
        "# import Gaussian Naive Bayes model\n",
        "from sklearn.naive_bayes import GaussianNB\n",
        "\n",
        "# create a Gaussian Classifier\n",
        "classifer = GaussianNB()\n",
        "\n",
        "# train the model using the training sets\n",
        "classifer.fit(X_train, y_train)\n",
        "\n",
        "# predict the response for test dataset\n",
        "y_pred = classifer.predict(X_test)"
      ],
      "metadata": {
        "id": "9-jVi-5khrhD"
      },
      "execution_count": null,
      "outputs": []
    },
    {
      "cell_type": "markdown",
      "source": [
        "Note: we have used the Gaussian Naive Bayes classification method for the training.\n",
        "\n",
        "Let us now check the accuracy of our model:"
      ],
      "metadata": {
        "id": "bHUfAB8Nocn_"
      }
    },
    {
      "cell_type": "code",
      "source": [
        "# import scikit-learn metrics module for accuracy calculation\n",
        "from sklearn import metrics\n",
        "\n",
        "# printing accuracy\n",
        "print(\"Accuracy:\", metrics.accuracy_score(y_test, y_pred))"
      ],
      "metadata": {
        "colab": {
          "base_uri": "https://localhost:8080/"
        },
        "id": "HjM-3pk_hvrN",
        "outputId": "29e2e136-371f-434d-df2b-39a9783a6779"
      },
      "execution_count": null,
      "outputs": [
        {
          "output_type": "stream",
          "name": "stdout",
          "text": [
            "Accuracy: 0.9814814814814815\n"
          ]
        }
      ]
    },
    {
      "cell_type": "markdown",
      "source": [
        "**We got 98% accurate results, which is pretty high accuracy.**"
      ],
      "metadata": {
        "id": "q0wz-x-EogI8"
      }
    },
    {
      "cell_type": "markdown",
      "source": [
        "**Evaluation of Naive Bayes Classifier for Multiclassification**\n",
        "\n",
        "Confusion Matrix is not only used to evaluate binary classification. It can also be useful in evaluating multiclass classification problems as well. The number of columns/rows will equal the number of output classes.\n",
        "\n",
        "Let’s evaluate our model, which was trained by multi-labeled data using a confusion matrix."
      ],
      "metadata": {
        "id": "iNgGKKVZomII"
      }
    },
    {
      "cell_type": "code",
      "source": [
        "# importing the required modules\n",
        "import seaborn as sns\n",
        "from sklearn.metrics import confusion_matrix\n",
        "\n",
        "# passing actual and predicted values\n",
        "cm = confusion_matrix(y_test, y_pred)\n",
        "\n",
        "# true Write data values in each cell of the matrix\n",
        "sns.heatmap(cm, annot=True)\n",
        "plt.savefig('confusion.png')"
      ],
      "metadata": {
        "colab": {
          "base_uri": "https://localhost:8080/",
          "height": 430
        },
        "id": "MK-u8Y7NhzSe",
        "outputId": "eb0484cf-9d3b-4cf8-a077-9aba331ef5e7"
      },
      "execution_count": null,
      "outputs": [
        {
          "output_type": "display_data",
          "data": {
            "text/plain": [
              "<Figure size 640x480 with 2 Axes>"
            ],
            "image/png": "[encoded data removed]"
          },
          "metadata": {}
        }
      ]
    },
    {
      "cell_type": "code",
      "source": [
        "# Importing classification report\n",
        "from sklearn.metrics import classification_report\n",
        "\n",
        "# printing the report\n",
        "print(classification_report(y_test, y_pred))"
      ],
      "metadata": {
        "colab": {
          "base_uri": "https://localhost:8080/"
        },
        "id": "rs3l2Gp_h2c0",
        "outputId": "cde81109-6151-471a-9ba8-a93f886ee6c6"
      },
      "execution_count": null,
      "outputs": [
        {
          "output_type": "stream",
          "name": "stdout",
          "text": [
            "              precision    recall  f1-score   support\n",
            "\n",
            "           0       0.96      1.00      0.98        23\n",
            "           1       1.00      0.95      0.97        19\n",
            "           2       1.00      1.00      1.00        12\n",
            "\n",
            "    accuracy                           0.98        54\n",
            "   macro avg       0.99      0.98      0.98        54\n",
            "weighted avg       0.98      0.98      0.98        54\n",
            "\n"
          ]
        }
      ]
    },
    {
      "cell_type": "markdown",
      "source": [],
      "metadata": {
        "id": "pnCYm-1fqNTf"
      }
    }
  ]
}