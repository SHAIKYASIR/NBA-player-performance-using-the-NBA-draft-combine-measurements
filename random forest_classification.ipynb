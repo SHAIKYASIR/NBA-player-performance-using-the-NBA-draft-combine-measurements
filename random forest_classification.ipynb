{
  "metadata": {
    "kernelspec": {
      "language": "python",
      "display_name": "Python 3",
      "name": "python3"
    },
    "language_info": {
      "name": "python",
      "version": "3.10.12",
      "mimetype": "text/x-python",
      "codemirror_mode": {
        "name": "ipython",
        "version": 3
      },
      "pygments_lexer": "ipython3",
      "nbconvert_exporter": "python",
      "file_extension": ".py"
    },
    "colab": {
      "provenance": [],
      "include_colab_link": true
    }
  },
  "nbformat_minor": 0,
  "nbformat": 4,
  "cells": [
    {
      "cell_type": "markdown",
      "metadata": {
        "id": "view-in-github",
        "colab_type": "text"
      },
      "source": [
        "<a href=\"https://colab.research.google.com/github/SHAIKYASIR/NBA-player-performance-using-the-NBA-draft-combine-measurements/blob/main/random%20forest_classification.ipynb\" target=\"_parent\"><img src=\"https://colab.research.google.com/assets/colab-badge.svg\" alt=\"Open In Colab\"/></a>"
      ]
    },
    {
      "cell_type": "code",
      "source": [
        "import pandas as pd"
      ],
      "metadata": {
        "execution": {
          "iopub.status.busy": "2023-11-06T09:50:33.893243Z",
          "iopub.execute_input": "2023-11-06T09:50:33.893801Z",
          "iopub.status.idle": "2023-11-06T09:50:34.200886Z",
          "shell.execute_reply.started": "2023-11-06T09:50:33.893772Z",
          "shell.execute_reply": "2023-11-06T09:50:34.199544Z"
        },
        "trusted": true,
        "id": "cdj2vN6gC3Ax"
      },
      "execution_count": null,
      "outputs": []
    },
    {
      "cell_type": "code",
      "source": [
        "df=pd.read_csv('/kaggle/input/car-evaluation-data-set/car_evaluation.csv')"
      ],
      "metadata": {
        "execution": {
          "iopub.status.busy": "2023-11-06T09:50:34.202371Z",
          "iopub.execute_input": "2023-11-06T09:50:34.203096Z",
          "iopub.status.idle": "2023-11-06T09:50:34.224710Z",
          "shell.execute_reply.started": "2023-11-06T09:50:34.203070Z",
          "shell.execute_reply": "2023-11-06T09:50:34.223769Z"
        },
        "trusted": true,
        "id": "sgv-xjpIC3A1"
      },
      "execution_count": null,
      "outputs": []
    },
    {
      "cell_type": "code",
      "source": [
        "df.head(2)"
      ],
      "metadata": {
        "execution": {
          "iopub.status.busy": "2023-11-06T09:50:34.225921Z",
          "iopub.execute_input": "2023-11-06T09:50:34.226406Z",
          "iopub.status.idle": "2023-11-06T09:50:34.247105Z",
          "shell.execute_reply.started": "2023-11-06T09:50:34.226382Z",
          "shell.execute_reply": "2023-11-06T09:50:34.246149Z"
        },
        "trusted": true,
        "id": "x9-eEw0_C3A2",
        "outputId": "6f24770b-95e4-4356-c074-7cc7fc34e6eb"
      },
      "execution_count": null,
      "outputs": [
        {
          "execution_count": 3,
          "output_type": "execute_result",
          "data": {
            "text/plain": "   vhigh vhigh.1  2 2.1  small   low  unacc\n0  vhigh   vhigh  2   2  small   med  unacc\n1  vhigh   vhigh  2   2  small  high  unacc",
            "text/html": "<div>\n<style scoped>\n    .dataframe tbody tr th:only-of-type {\n        vertical-align: middle;\n    }\n\n    .dataframe tbody tr th {\n        vertical-align: top;\n    }\n\n    .dataframe thead th {\n        text-align: right;\n    }\n</style>\n<table border=\"1\" class=\"dataframe\">\n  <thead>\n    <tr style=\"text-align: right;\">\n      <th></th>\n      <th>vhigh</th>\n      <th>vhigh.1</th>\n      <th>2</th>\n      <th>2.1</th>\n      <th>small</th>\n      <th>low</th>\n      <th>unacc</th>\n    </tr>\n  </thead>\n  <tbody>\n    <tr>\n      <th>0</th>\n      <td>vhigh</td>\n      <td>vhigh</td>\n      <td>2</td>\n      <td>2</td>\n      <td>small</td>\n      <td>med</td>\n      <td>unacc</td>\n    </tr>\n    <tr>\n      <th>1</th>\n      <td>vhigh</td>\n      <td>vhigh</td>\n      <td>2</td>\n      <td>2</td>\n      <td>small</td>\n      <td>high</td>\n      <td>unacc</td>\n    </tr>\n  </tbody>\n</table>\n</div>"
          },
          "metadata": {}
        }
      ]
    },
    {
      "cell_type": "code",
      "source": [
        "df.describe()"
      ],
      "metadata": {
        "execution": {
          "iopub.status.busy": "2023-11-06T09:50:34.249652Z",
          "iopub.execute_input": "2023-11-06T09:50:34.249938Z",
          "iopub.status.idle": "2023-11-06T09:50:34.281429Z",
          "shell.execute_reply.started": "2023-11-06T09:50:34.249914Z",
          "shell.execute_reply": "2023-11-06T09:50:34.280068Z"
        },
        "trusted": true,
        "id": "VtBdz5uuC3A4",
        "outputId": "5b537e48-6151-4235-e7d8-4e217f03a763"
      },
      "execution_count": null,
      "outputs": [
        {
          "execution_count": 4,
          "output_type": "execute_result",
          "data": {
            "text/plain": "       vhigh vhigh.1     2   2.1 small   low  unacc\ncount   1727    1727  1727  1727  1727  1727   1727\nunique     4       4     4     3     3     3      4\ntop     high    high     3     4   med   med  unacc\nfreq     432     432   432   576   576   576   1209",
            "text/html": "<div>\n<style scoped>\n    .dataframe tbody tr th:only-of-type {\n        vertical-align: middle;\n    }\n\n    .dataframe tbody tr th {\n        vertical-align: top;\n    }\n\n    .dataframe thead th {\n        text-align: right;\n    }\n</style>\n<table border=\"1\" class=\"dataframe\">\n  <thead>\n    <tr style=\"text-align: right;\">\n      <th></th>\n      <th>vhigh</th>\n      <th>vhigh.1</th>\n      <th>2</th>\n      <th>2.1</th>\n      <th>small</th>\n      <th>low</th>\n      <th>unacc</th>\n    </tr>\n  </thead>\n  <tbody>\n    <tr>\n      <th>count</th>\n      <td>1727</td>\n      <td>1727</td>\n      <td>1727</td>\n      <td>1727</td>\n      <td>1727</td>\n      <td>1727</td>\n      <td>1727</td>\n    </tr>\n    <tr>\n      <th>unique</th>\n      <td>4</td>\n      <td>4</td>\n      <td>4</td>\n      <td>3</td>\n      <td>3</td>\n      <td>3</td>\n      <td>4</td>\n    </tr>\n    <tr>\n      <th>top</th>\n      <td>high</td>\n      <td>high</td>\n      <td>3</td>\n      <td>4</td>\n      <td>med</td>\n      <td>med</td>\n      <td>unacc</td>\n    </tr>\n    <tr>\n      <th>freq</th>\n      <td>432</td>\n      <td>432</td>\n      <td>432</td>\n      <td>576</td>\n      <td>576</td>\n      <td>576</td>\n      <td>1209</td>\n    </tr>\n  </tbody>\n</table>\n</div>"
          },
          "metadata": {}
        }
      ]
    },
    {
      "cell_type": "code",
      "source": [
        "col_names = ['buying', 'maint', 'doors', 'persons', 'lug_boot', 'safety', 'class']\n",
        "\n",
        "df.columns=col_names\n",
        "col_names"
      ],
      "metadata": {
        "execution": {
          "iopub.status.busy": "2023-11-06T09:50:34.282848Z",
          "iopub.execute_input": "2023-11-06T09:50:34.283185Z",
          "iopub.status.idle": "2023-11-06T09:50:34.290966Z",
          "shell.execute_reply.started": "2023-11-06T09:50:34.283159Z",
          "shell.execute_reply": "2023-11-06T09:50:34.289871Z"
        },
        "trusted": true,
        "id": "z14f864bC3A4",
        "outputId": "b25402dd-8baa-456d-9b3e-3228f637f335"
      },
      "execution_count": null,
      "outputs": [
        {
          "execution_count": 5,
          "output_type": "execute_result",
          "data": {
            "text/plain": "['buying', 'maint', 'doors', 'persons', 'lug_boot', 'safety', 'class']"
          },
          "metadata": {}
        }
      ]
    },
    {
      "cell_type": "code",
      "source": [
        "for col in col_names:\n",
        "    print(df[col].value_counts())"
      ],
      "metadata": {
        "execution": {
          "iopub.status.busy": "2023-11-06T09:50:34.292382Z",
          "iopub.execute_input": "2023-11-06T09:50:34.292594Z",
          "iopub.status.idle": "2023-11-06T09:50:34.307498Z",
          "shell.execute_reply.started": "2023-11-06T09:50:34.292576Z",
          "shell.execute_reply": "2023-11-06T09:50:34.305199Z"
        },
        "trusted": true,
        "id": "q25BiQMPC3A8",
        "outputId": "eca27ff4-25ec-47f3-dd30-a2fd180c4e67"
      },
      "execution_count": null,
      "outputs": [
        {
          "name": "stdout",
          "text": "buying\nhigh     432\nmed      432\nlow      432\nvhigh    431\nName: count, dtype: int64\nmaint\nhigh     432\nmed      432\nlow      432\nvhigh    431\nName: count, dtype: int64\ndoors\n3        432\n4        432\n5more    432\n2        431\nName: count, dtype: int64\npersons\n4       576\nmore    576\n2       575\nName: count, dtype: int64\nlug_boot\nmed      576\nbig      576\nsmall    575\nName: count, dtype: int64\nsafety\nmed     576\nhigh    576\nlow     575\nName: count, dtype: int64\nclass\nunacc    1209\nacc       384\ngood       69\nvgood      65\nName: count, dtype: int64\n",
          "output_type": "stream"
        }
      ]
    },
    {
      "cell_type": "code",
      "source": [
        "df.head()"
      ],
      "metadata": {
        "execution": {
          "iopub.status.busy": "2023-11-06T09:50:34.308764Z",
          "iopub.execute_input": "2023-11-06T09:50:34.309213Z",
          "iopub.status.idle": "2023-11-06T09:50:34.324634Z",
          "shell.execute_reply.started": "2023-11-06T09:50:34.309177Z",
          "shell.execute_reply": "2023-11-06T09:50:34.323545Z"
        },
        "trusted": true,
        "id": "5_Eb13QjC3A9",
        "outputId": "3889dd63-0e95-45b4-c590-be9b628b0eac"
      },
      "execution_count": null,
      "outputs": [
        {
          "execution_count": 7,
          "output_type": "execute_result",
          "data": {
            "text/plain": "  buying  maint doors persons lug_boot safety  class\n0  vhigh  vhigh     2       2    small    med  unacc\n1  vhigh  vhigh     2       2    small   high  unacc\n2  vhigh  vhigh     2       2      med    low  unacc\n3  vhigh  vhigh     2       2      med    med  unacc\n4  vhigh  vhigh     2       2      med   high  unacc",
            "text/html": "<div>\n<style scoped>\n    .dataframe tbody tr th:only-of-type {\n        vertical-align: middle;\n    }\n\n    .dataframe tbody tr th {\n        vertical-align: top;\n    }\n\n    .dataframe thead th {\n        text-align: right;\n    }\n</style>\n<table border=\"1\" class=\"dataframe\">\n  <thead>\n    <tr style=\"text-align: right;\">\n      <th></th>\n      <th>buying</th>\n      <th>maint</th>\n      <th>doors</th>\n      <th>persons</th>\n      <th>lug_boot</th>\n      <th>safety</th>\n      <th>class</th>\n    </tr>\n  </thead>\n  <tbody>\n    <tr>\n      <th>0</th>\n      <td>vhigh</td>\n      <td>vhigh</td>\n      <td>2</td>\n      <td>2</td>\n      <td>small</td>\n      <td>med</td>\n      <td>unacc</td>\n    </tr>\n    <tr>\n      <th>1</th>\n      <td>vhigh</td>\n      <td>vhigh</td>\n      <td>2</td>\n      <td>2</td>\n      <td>small</td>\n      <td>high</td>\n      <td>unacc</td>\n    </tr>\n    <tr>\n      <th>2</th>\n      <td>vhigh</td>\n      <td>vhigh</td>\n      <td>2</td>\n      <td>2</td>\n      <td>med</td>\n      <td>low</td>\n      <td>unacc</td>\n    </tr>\n    <tr>\n      <th>3</th>\n      <td>vhigh</td>\n      <td>vhigh</td>\n      <td>2</td>\n      <td>2</td>\n      <td>med</td>\n      <td>med</td>\n      <td>unacc</td>\n    </tr>\n    <tr>\n      <th>4</th>\n      <td>vhigh</td>\n      <td>vhigh</td>\n      <td>2</td>\n      <td>2</td>\n      <td>med</td>\n      <td>high</td>\n      <td>unacc</td>\n    </tr>\n  </tbody>\n</table>\n</div>"
          },
          "metadata": {}
        }
      ]
    },
    {
      "cell_type": "code",
      "source": [
        "df.info()"
      ],
      "metadata": {
        "execution": {
          "iopub.status.busy": "2023-11-06T09:50:34.325673Z",
          "iopub.execute_input": "2023-11-06T09:50:34.325954Z",
          "iopub.status.idle": "2023-11-06T09:50:34.350432Z",
          "shell.execute_reply.started": "2023-11-06T09:50:34.325931Z",
          "shell.execute_reply": "2023-11-06T09:50:34.349440Z"
        },
        "trusted": true,
        "id": "4ThrBEC9C3A9",
        "outputId": "3ef55171-ce47-486c-f3c6-5b3dd182da29"
      },
      "execution_count": null,
      "outputs": [
        {
          "name": "stdout",
          "text": "<class 'pandas.core.frame.DataFrame'>\nRangeIndex: 1727 entries, 0 to 1726\nData columns (total 7 columns):\n #   Column    Non-Null Count  Dtype \n---  ------    --------------  ----- \n 0   buying    1727 non-null   object\n 1   maint     1727 non-null   object\n 2   doors     1727 non-null   object\n 3   persons   1727 non-null   object\n 4   lug_boot  1727 non-null   object\n 5   safety    1727 non-null   object\n 6   class     1727 non-null   object\ndtypes: object(7)\nmemory usage: 94.6+ KB\n",
          "output_type": "stream"
        }
      ]
    },
    {
      "cell_type": "code",
      "source": [
        "df.isnull().sum()"
      ],
      "metadata": {
        "execution": {
          "iopub.status.busy": "2023-11-06T09:50:34.352738Z",
          "iopub.execute_input": "2023-11-06T09:50:34.353575Z",
          "iopub.status.idle": "2023-11-06T09:50:34.362760Z",
          "shell.execute_reply.started": "2023-11-06T09:50:34.353544Z",
          "shell.execute_reply": "2023-11-06T09:50:34.361891Z"
        },
        "trusted": true,
        "id": "PwwMqMsvC3A-",
        "outputId": "d1b598b8-33d1-4dfd-cfee-4d12f2538b5e"
      },
      "execution_count": null,
      "outputs": [
        {
          "execution_count": 9,
          "output_type": "execute_result",
          "data": {
            "text/plain": "buying      0\nmaint       0\ndoors       0\npersons     0\nlug_boot    0\nsafety      0\nclass       0\ndtype: int64"
          },
          "metadata": {}
        }
      ]
    },
    {
      "cell_type": "code",
      "source": [
        "x=df.drop(['class'],axis=1)\n",
        "y=df['class']"
      ],
      "metadata": {
        "execution": {
          "iopub.status.busy": "2023-11-06T09:50:34.365583Z",
          "iopub.execute_input": "2023-11-06T09:50:34.365851Z",
          "iopub.status.idle": "2023-11-06T09:50:34.376124Z",
          "shell.execute_reply.started": "2023-11-06T09:50:34.365831Z",
          "shell.execute_reply": "2023-11-06T09:50:34.375216Z"
        },
        "trusted": true,
        "id": "iYGUKRb2C3A-"
      },
      "execution_count": null,
      "outputs": []
    },
    {
      "cell_type": "code",
      "source": [
        "from sklearn.model_selection import train_test_split\n",
        "x_train,x_test,y_train,y_test=train_test_split(x,y,test_size=0.3,random_state=42)"
      ],
      "metadata": {
        "execution": {
          "iopub.status.busy": "2023-11-06T09:50:34.377552Z",
          "iopub.execute_input": "2023-11-06T09:50:34.377777Z",
          "iopub.status.idle": "2023-11-06T09:50:35.579056Z",
          "shell.execute_reply.started": "2023-11-06T09:50:34.377757Z",
          "shell.execute_reply": "2023-11-06T09:50:35.578250Z"
        },
        "trusted": true,
        "id": "frIRtqu9C3A-"
      },
      "execution_count": null,
      "outputs": []
    },
    {
      "cell_type": "code",
      "source": [
        "x_train.shape,x_test.shape"
      ],
      "metadata": {
        "execution": {
          "iopub.status.busy": "2023-11-06T09:50:35.581962Z",
          "iopub.execute_input": "2023-11-06T09:50:35.582489Z",
          "iopub.status.idle": "2023-11-06T09:50:35.589009Z",
          "shell.execute_reply.started": "2023-11-06T09:50:35.582458Z",
          "shell.execute_reply": "2023-11-06T09:50:35.587979Z"
        },
        "trusted": true,
        "id": "xUyxiEvZC3A_",
        "outputId": "945e223a-4860-49eb-fd7b-e845e52be837"
      },
      "execution_count": null,
      "outputs": [
        {
          "execution_count": 12,
          "output_type": "execute_result",
          "data": {
            "text/plain": "((1208, 6), (519, 6))"
          },
          "metadata": {}
        }
      ]
    },
    {
      "cell_type": "code",
      "source": [
        "import category_encoders as ce\n",
        "\n",
        "encoder = ce.OrdinalEncoder(cols=['buying', 'maint', 'doors', 'persons', 'lug_boot', 'safety'])\n",
        "x_train = encoder.fit_transform(x_train)\n",
        "x_test = encoder.transform(x_test)"
      ],
      "metadata": {
        "execution": {
          "iopub.status.busy": "2023-11-06T09:50:35.590435Z",
          "iopub.execute_input": "2023-11-06T09:50:35.590785Z",
          "iopub.status.idle": "2023-11-06T09:50:36.257084Z",
          "shell.execute_reply.started": "2023-11-06T09:50:35.590759Z",
          "shell.execute_reply": "2023-11-06T09:50:36.256219Z"
        },
        "trusted": true,
        "id": "_LhyjqQhC3A_"
      },
      "execution_count": null,
      "outputs": []
    },
    {
      "cell_type": "code",
      "source": [
        "x_train.head()"
      ],
      "metadata": {
        "execution": {
          "iopub.status.busy": "2023-11-06T09:50:36.258360Z",
          "iopub.execute_input": "2023-11-06T09:50:36.258803Z",
          "iopub.status.idle": "2023-11-06T09:50:36.270341Z",
          "shell.execute_reply.started": "2023-11-06T09:50:36.258776Z",
          "shell.execute_reply": "2023-11-06T09:50:36.269450Z"
        },
        "trusted": true,
        "id": "EwRhaiw9C3A_",
        "outputId": "15eb91f6-63d8-417f-f29e-909f35610c33"
      },
      "execution_count": null,
      "outputs": [
        {
          "execution_count": 14,
          "output_type": "execute_result",
          "data": {
            "text/plain": "      buying  maint  doors  persons  lug_boot  safety\n1177       1      1      1        1         1       1\n585        2      2      2        2         2       2\n1551       3      1      2        1         3       2\n727        2      1      3        2         1       1\n707        2      1      3        3         1       3",
            "text/html": "<div>\n<style scoped>\n    .dataframe tbody tr th:only-of-type {\n        vertical-align: middle;\n    }\n\n    .dataframe tbody tr th {\n        vertical-align: top;\n    }\n\n    .dataframe thead th {\n        text-align: right;\n    }\n</style>\n<table border=\"1\" class=\"dataframe\">\n  <thead>\n    <tr style=\"text-align: right;\">\n      <th></th>\n      <th>buying</th>\n      <th>maint</th>\n      <th>doors</th>\n      <th>persons</th>\n      <th>lug_boot</th>\n      <th>safety</th>\n    </tr>\n  </thead>\n  <tbody>\n    <tr>\n      <th>1177</th>\n      <td>1</td>\n      <td>1</td>\n      <td>1</td>\n      <td>1</td>\n      <td>1</td>\n      <td>1</td>\n    </tr>\n    <tr>\n      <th>585</th>\n      <td>2</td>\n      <td>2</td>\n      <td>2</td>\n      <td>2</td>\n      <td>2</td>\n      <td>2</td>\n    </tr>\n    <tr>\n      <th>1551</th>\n      <td>3</td>\n      <td>1</td>\n      <td>2</td>\n      <td>1</td>\n      <td>3</td>\n      <td>2</td>\n    </tr>\n    <tr>\n      <th>727</th>\n      <td>2</td>\n      <td>1</td>\n      <td>3</td>\n      <td>2</td>\n      <td>1</td>\n      <td>1</td>\n    </tr>\n    <tr>\n      <th>707</th>\n      <td>2</td>\n      <td>1</td>\n      <td>3</td>\n      <td>3</td>\n      <td>1</td>\n      <td>3</td>\n    </tr>\n  </tbody>\n</table>\n</div>"
          },
          "metadata": {}
        }
      ]
    },
    {
      "cell_type": "code",
      "source": [
        "from sklearn.ensemble import RandomForestClassifier\n",
        "\n",
        "rfc=RandomForestClassifier(random_state=0)\n",
        "\n",
        "rfc.fit(x_train,y_train)"
      ],
      "metadata": {
        "execution": {
          "iopub.status.busy": "2023-11-06T09:50:36.271738Z",
          "iopub.execute_input": "2023-11-06T09:50:36.272344Z",
          "iopub.status.idle": "2023-11-06T09:50:36.886177Z",
          "shell.execute_reply.started": "2023-11-06T09:50:36.272191Z",
          "shell.execute_reply": "2023-11-06T09:50:36.885307Z"
        },
        "trusted": true,
        "id": "uu6MtdkzC3BA",
        "outputId": "48c66dc1-b2fe-4ed9-ffa8-5da15504d3bf"
      },
      "execution_count": null,
      "outputs": [
        {
          "execution_count": 15,
          "output_type": "execute_result",
          "data": {
            "text/plain": "RandomForestClassifier(random_state=0)",
            "text/html": "<style>#sk-container-id-1 {color: black;background-color: white;}#sk-container-id-1 pre{padding: 0;}#sk-container-id-1 div.sk-toggleable {background-color: white;}#sk-container-id-1 label.sk-toggleable__label {cursor: pointer;display: block;width: 100%;margin-bottom: 0;padding: 0.3em;box-sizing: border-box;text-align: center;}#sk-container-id-1 label.sk-toggleable__label-arrow:before {content: \"▸\";float: left;margin-right: 0.25em;color: #696969;}#sk-container-id-1 label.sk-toggleable__label-arrow:hover:before {color: black;}#sk-container-id-1 div.sk-estimator:hover label.sk-toggleable__label-arrow:before {color: black;}#sk-container-id-1 div.sk-toggleable__content {max-height: 0;max-width: 0;overflow: hidden;text-align: left;background-color: #f0f8ff;}#sk-container-id-1 div.sk-toggleable__content pre {margin: 0.2em;color: black;border-radius: 0.25em;background-color: #f0f8ff;}#sk-container-id-1 input.sk-toggleable__control:checked~div.sk-toggleable__content {max-height: 200px;max-width: 100%;overflow: auto;}#sk-container-id-1 input.sk-toggleable__control:checked~label.sk-toggleable__label-arrow:before {content: \"▾\";}#sk-container-id-1 div.sk-estimator input.sk-toggleable__control:checked~label.sk-toggleable__label {background-color: #d4ebff;}#sk-container-id-1 div.sk-label input.sk-toggleable__control:checked~label.sk-toggleable__label {background-color: #d4ebff;}#sk-container-id-1 input.sk-hidden--visually {border: 0;clip: rect(1px 1px 1px 1px);clip: rect(1px, 1px, 1px, 1px);height: 1px;margin: -1px;overflow: hidden;padding: 0;position: absolute;width: 1px;}#sk-container-id-1 div.sk-estimator {font-family: monospace;background-color: #f0f8ff;border: 1px dotted black;border-radius: 0.25em;box-sizing: border-box;margin-bottom: 0.5em;}#sk-container-id-1 div.sk-estimator:hover {background-color: #d4ebff;}#sk-container-id-1 div.sk-parallel-item::after {content: \"\";width: 100%;border-bottom: 1px solid gray;flex-grow: 1;}#sk-container-id-1 div.sk-label:hover label.sk-toggleable__label {background-color: #d4ebff;}#sk-container-id-1 div.sk-serial::before {content: \"\";position: absolute;border-left: 1px solid gray;box-sizing: border-box;top: 0;bottom: 0;left: 50%;z-index: 0;}#sk-container-id-1 div.sk-serial {display: flex;flex-direction: column;align-items: center;background-color: white;padding-right: 0.2em;padding-left: 0.2em;position: relative;}#sk-container-id-1 div.sk-item {position: relative;z-index: 1;}#sk-container-id-1 div.sk-parallel {display: flex;align-items: stretch;justify-content: center;background-color: white;position: relative;}#sk-container-id-1 div.sk-item::before, #sk-container-id-1 div.sk-parallel-item::before {content: \"\";position: absolute;border-left: 1px solid gray;box-sizing: border-box;top: 0;bottom: 0;left: 50%;z-index: -1;}#sk-container-id-1 div.sk-parallel-item {display: flex;flex-direction: column;z-index: 1;position: relative;background-color: white;}#sk-container-id-1 div.sk-parallel-item:first-child::after {align-self: flex-end;width: 50%;}#sk-container-id-1 div.sk-parallel-item:last-child::after {align-self: flex-start;width: 50%;}#sk-container-id-1 div.sk-parallel-item:only-child::after {width: 0;}#sk-container-id-1 div.sk-dashed-wrapped {border: 1px dashed gray;margin: 0 0.4em 0.5em 0.4em;box-sizing: border-box;padding-bottom: 0.4em;background-color: white;}#sk-container-id-1 div.sk-label label {font-family: monospace;font-weight: bold;display: inline-block;line-height: 1.2em;}#sk-container-id-1 div.sk-label-container {text-align: center;}#sk-container-id-1 div.sk-container {/* jupyter's `normalize.less` sets `[hidden] { display: none; }` but bootstrap.min.css set `[hidden] { display: none !important; }` so we also need the `!important` here to be able to override the default hidden behavior on the sphinx rendered scikit-learn.org. See: https://github.com/scikit-learn/scikit-learn/issues/21755 */display: inline-block !important;position: relative;}#sk-container-id-1 div.sk-text-repr-fallback {display: none;}</style><div id=\"sk-container-id-1\" class=\"sk-top-container\"><div class=\"sk-text-repr-fallback\"><pre>RandomForestClassifier(random_state=0)</pre><b>In a Jupyter environment, please rerun this cell to show the HTML representation or trust the notebook. <br />On GitHub, the HTML representation is unable to render, please try loading this page with nbviewer.org.</b></div><div class=\"sk-container\" hidden><div class=\"sk-item\"><div class=\"sk-estimator sk-toggleable\"><input class=\"sk-toggleable__control sk-hidden--visually\" id=\"sk-estimator-id-1\" type=\"checkbox\" checked><label for=\"sk-estimator-id-1\" class=\"sk-toggleable__label sk-toggleable__label-arrow\">RandomForestClassifier</label><div class=\"sk-toggleable__content\"><pre>RandomForestClassifier(random_state=0)</pre></div></div></div></div></div>"
          },
          "metadata": {}
        }
      ]
    },
    {
      "cell_type": "code",
      "source": [
        "y_pred=rfc.predict(x_test)"
      ],
      "metadata": {
        "execution": {
          "iopub.status.busy": "2023-11-06T09:50:36.887597Z",
          "iopub.execute_input": "2023-11-06T09:50:36.888197Z",
          "iopub.status.idle": "2023-11-06T09:50:36.912546Z",
          "shell.execute_reply.started": "2023-11-06T09:50:36.888167Z",
          "shell.execute_reply": "2023-11-06T09:50:36.910771Z"
        },
        "trusted": true,
        "id": "_sZ00Dw7C3BA"
      },
      "execution_count": null,
      "outputs": []
    },
    {
      "cell_type": "code",
      "source": [
        "from sklearn.metrics import accuracy_score\n",
        "accuracy_score(y_test,y_pred)"
      ],
      "metadata": {
        "execution": {
          "iopub.status.busy": "2023-11-06T09:50:36.913867Z",
          "iopub.execute_input": "2023-11-06T09:50:36.914765Z",
          "iopub.status.idle": "2023-11-06T09:50:36.924621Z",
          "shell.execute_reply.started": "2023-11-06T09:50:36.914733Z",
          "shell.execute_reply": "2023-11-06T09:50:36.923523Z"
        },
        "trusted": true,
        "id": "38yRevmDC3BB",
        "outputId": "5bfd4d1e-080a-4546-e3ab-2dbbc9fb7542"
      },
      "execution_count": null,
      "outputs": [
        {
          "execution_count": 17,
          "output_type": "execute_result",
          "data": {
            "text/plain": "0.928709055876686"
          },
          "metadata": {}
        }
      ]
    },
    {
      "cell_type": "code",
      "source": [
        "rfc_100 = RandomForestClassifier(n_estimators=100, random_state=0)\n",
        "rfc_100.fit(x_train, y_train)"
      ],
      "metadata": {
        "execution": {
          "iopub.status.busy": "2023-11-06T09:50:36.926025Z",
          "iopub.execute_input": "2023-11-06T09:50:36.926418Z",
          "iopub.status.idle": "2023-11-06T09:50:37.124273Z",
          "shell.execute_reply.started": "2023-11-06T09:50:36.926389Z",
          "shell.execute_reply": "2023-11-06T09:50:37.123085Z"
        },
        "trusted": true,
        "id": "RTGDKWKdC3BB",
        "outputId": "ac039052-e3ec-4923-b626-af8feaa61397"
      },
      "execution_count": null,
      "outputs": [
        {
          "execution_count": 18,
          "output_type": "execute_result",
          "data": {
            "text/plain": "RandomForestClassifier(random_state=0)",
            "text/html": "<style>#sk-container-id-2 {color: black;background-color: white;}#sk-container-id-2 pre{padding: 0;}#sk-container-id-2 div.sk-toggleable {background-color: white;}#sk-container-id-2 label.sk-toggleable__label {cursor: pointer;display: block;width: 100%;margin-bottom: 0;padding: 0.3em;box-sizing: border-box;text-align: center;}#sk-container-id-2 label.sk-toggleable__label-arrow:before {content: \"▸\";float: left;margin-right: 0.25em;color: #696969;}#sk-container-id-2 label.sk-toggleable__label-arrow:hover:before {color: black;}#sk-container-id-2 div.sk-estimator:hover label.sk-toggleable__label-arrow:before {color: black;}#sk-container-id-2 div.sk-toggleable__content {max-height: 0;max-width: 0;overflow: hidden;text-align: left;background-color: #f0f8ff;}#sk-container-id-2 div.sk-toggleable__content pre {margin: 0.2em;color: black;border-radius: 0.25em;background-color: #f0f8ff;}#sk-container-id-2 input.sk-toggleable__control:checked~div.sk-toggleable__content {max-height: 200px;max-width: 100%;overflow: auto;}#sk-container-id-2 input.sk-toggleable__control:checked~label.sk-toggleable__label-arrow:before {content: \"▾\";}#sk-container-id-2 div.sk-estimator input.sk-toggleable__control:checked~label.sk-toggleable__label {background-color: #d4ebff;}#sk-container-id-2 div.sk-label input.sk-toggleable__control:checked~label.sk-toggleable__label {background-color: #d4ebff;}#sk-container-id-2 input.sk-hidden--visually {border: 0;clip: rect(1px 1px 1px 1px);clip: rect(1px, 1px, 1px, 1px);height: 1px;margin: -1px;overflow: hidden;padding: 0;position: absolute;width: 1px;}#sk-container-id-2 div.sk-estimator {font-family: monospace;background-color: #f0f8ff;border: 1px dotted black;border-radius: 0.25em;box-sizing: border-box;margin-bottom: 0.5em;}#sk-container-id-2 div.sk-estimator:hover {background-color: #d4ebff;}#sk-container-id-2 div.sk-parallel-item::after {content: \"\";width: 100%;border-bottom: 1px solid gray;flex-grow: 1;}#sk-container-id-2 div.sk-label:hover label.sk-toggleable__label {background-color: #d4ebff;}#sk-container-id-2 div.sk-serial::before {content: \"\";position: absolute;border-left: 1px solid gray;box-sizing: border-box;top: 0;bottom: 0;left: 50%;z-index: 0;}#sk-container-id-2 div.sk-serial {display: flex;flex-direction: column;align-items: center;background-color: white;padding-right: 0.2em;padding-left: 0.2em;position: relative;}#sk-container-id-2 div.sk-item {position: relative;z-index: 1;}#sk-container-id-2 div.sk-parallel {display: flex;align-items: stretch;justify-content: center;background-color: white;position: relative;}#sk-container-id-2 div.sk-item::before, #sk-container-id-2 div.sk-parallel-item::before {content: \"\";position: absolute;border-left: 1px solid gray;box-sizing: border-box;top: 0;bottom: 0;left: 50%;z-index: -1;}#sk-container-id-2 div.sk-parallel-item {display: flex;flex-direction: column;z-index: 1;position: relative;background-color: white;}#sk-container-id-2 div.sk-parallel-item:first-child::after {align-self: flex-end;width: 50%;}#sk-container-id-2 div.sk-parallel-item:last-child::after {align-self: flex-start;width: 50%;}#sk-container-id-2 div.sk-parallel-item:only-child::after {width: 0;}#sk-container-id-2 div.sk-dashed-wrapped {border: 1px dashed gray;margin: 0 0.4em 0.5em 0.4em;box-sizing: border-box;padding-bottom: 0.4em;background-color: white;}#sk-container-id-2 div.sk-label label {font-family: monospace;font-weight: bold;display: inline-block;line-height: 1.2em;}#sk-container-id-2 div.sk-label-container {text-align: center;}#sk-container-id-2 div.sk-container {/* jupyter's `normalize.less` sets `[hidden] { display: none; }` but bootstrap.min.css set `[hidden] { display: none !important; }` so we also need the `!important` here to be able to override the default hidden behavior on the sphinx rendered scikit-learn.org. See: https://github.com/scikit-learn/scikit-learn/issues/21755 */display: inline-block !important;position: relative;}#sk-container-id-2 div.sk-text-repr-fallback {display: none;}</style><div id=\"sk-container-id-2\" class=\"sk-top-container\"><div class=\"sk-text-repr-fallback\"><pre>RandomForestClassifier(random_state=0)</pre><b>In a Jupyter environment, please rerun this cell to show the HTML representation or trust the notebook. <br />On GitHub, the HTML representation is unable to render, please try loading this page with nbviewer.org.</b></div><div class=\"sk-container\" hidden><div class=\"sk-item\"><div class=\"sk-estimator sk-toggleable\"><input class=\"sk-toggleable__control sk-hidden--visually\" id=\"sk-estimator-id-2\" type=\"checkbox\" checked><label for=\"sk-estimator-id-2\" class=\"sk-toggleable__label sk-toggleable__label-arrow\">RandomForestClassifier</label><div class=\"sk-toggleable__content\"><pre>RandomForestClassifier(random_state=0)</pre></div></div></div></div></div>"
          },
          "metadata": {}
        }
      ]
    },
    {
      "cell_type": "code",
      "source": [
        "y_pred_100=rfc_100.predict(x_test)\n",
        "accuracy_score(y_test,y_pred_100)"
      ],
      "metadata": {
        "execution": {
          "iopub.status.busy": "2023-11-06T09:50:37.125457Z",
          "iopub.execute_input": "2023-11-06T09:50:37.125804Z",
          "iopub.status.idle": "2023-11-06T09:50:37.148735Z",
          "shell.execute_reply.started": "2023-11-06T09:50:37.125779Z",
          "shell.execute_reply": "2023-11-06T09:50:37.147542Z"
        },
        "trusted": true,
        "id": "PrHrfumsC3BB",
        "outputId": "7a8dc6e8-ecc0-4bea-f5d6-fcbaca704360"
      },
      "execution_count": null,
      "outputs": [
        {
          "execution_count": 19,
          "output_type": "execute_result",
          "data": {
            "text/plain": "0.928709055876686"
          },
          "metadata": {}
        }
      ]
    },
    {
      "cell_type": "code",
      "source": [],
      "metadata": {
        "id": "hYZR6IXGC3BB"
      },
      "execution_count": null,
      "outputs": []
    }
  ]
}