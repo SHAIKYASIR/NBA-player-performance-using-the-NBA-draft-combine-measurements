{
  "nbformat": 4,
  "nbformat_minor": 0,
  "metadata": {
    "colab": {
      "provenance": []
    },
    "kernelspec": {
      "name": "python3",
      "display_name": "Python 3"
    },
    "language_info": {
      "name": "python"
    }
  },
  "cells": [
    {
      "cell_type": "markdown",
      "source": [
        "## **Cross-validation**\n",
        "\n",
        "Cross-validation is a technique for evaluating a machine learning model and testing its performance. CV is commonly used in applied ML tasks. It helps to compare and select an appropriate model for the specific predictive modeling problem.\n",
        "\n",
        "CV is easy to understand, easy to implement, and it tends to have a lower bias than other methods used to count the model’s efficiency scores. All this makes cross-validation a powerful tool for selecting the best model for the specific task.\n"
      ],
      "metadata": {
        "id": "LTI2LKW3yAli"
      }
    },
    {
      "cell_type": "markdown",
      "source": [
        "There are a lot of different techniques that may be used to cross-validate a model. Still, all of them have a similar algorithm:\n",
        "\n",
        "1. Divide the dataset into two parts: one for training, other for testing\n",
        "2. Train the model on the training set\n",
        "3. Validate the model on the test set\n",
        "4. Repeat 1-3 steps a couple of times.\n",
        "\n",
        "This number depends on the CV method that you are using"
      ],
      "metadata": {
        "id": "1nS1kbKVyNTl"
      }
    },
    {
      "cell_type": "markdown",
      "source": [
        "Few  cross-validation methods are as follows\n",
        "\n",
        "1. Hold-out\n",
        "2. K-folds\n",
        "3. Leave-one-out\n",
        "4. Leave-p-out\n",
        "5. Stratified K-folds\n",
        "6. Repeated K-folds\n",
        "7. Nested K-folds\n",
        "\n"
      ],
      "metadata": {
        "id": "k6iSfLBiylo3"
      }
    },
    {
      "cell_type": "code",
      "source": [
        "import numpy as np\n",
        "from sklearn.model_selection import train_test_split\n",
        "\n",
        "X, y = np.arange(10).reshape((5, 2)), range(5)\n",
        "X_train, X_test, y_train, y_test = train_test_split(X, y,\n",
        "                                                    test_size=0.2,\n",
        "                                                    random_state=111)"
      ],
      "metadata": {
        "id": "2JZq7YGN0DzZ"
      },
      "execution_count": null,
      "outputs": []
    },
    {
      "cell_type": "code",
      "source": [
        "import numpy as np\n",
        "from sklearn.model_selection import KFold\n",
        "\n",
        "X = np.array([[1, 2], [3, 4], [1, 2], [3, 4]])\n",
        "y = np.array([1, 2, 3, 4])\n",
        "kf = KFold(n_splits=2)\n",
        "\n",
        "for train_index, test_index in kf.split(X):\n",
        "    print(\"TRAIN:\", train_index, \"TEST:\", test_index)\n",
        "    X_train, X_test = X[train_index], X[test_index]\n",
        "    y_train, y_test = y[train_index], y[test_index]"
      ],
      "metadata": {
        "colab": {
          "base_uri": "https://localhost:8080/"
        },
        "id": "fz-ounHO1JKw",
        "outputId": "1f5b7a3b-c1fc-4657-dd02-501f9239c84a"
      },
      "execution_count": null,
      "outputs": [
        {
          "output_type": "stream",
          "name": "stdout",
          "text": [
            "TRAIN: [2 3] TEST: [0 1]\n",
            "TRAIN: [0 1] TEST: [2 3]\n"
          ]
        }
      ]
    },
    {
      "cell_type": "code",
      "source": [
        "import numpy as np\n",
        "from sklearn.model_selection import LeaveOneOut\n",
        "\n",
        "X = np.array([[1, 2], [3, 4]])\n",
        "y = np.array([1, 2])\n",
        "loo = LeaveOneOut()\n",
        "\n",
        "for train_index, test_index in loo.split(X):\n",
        "    print(\"TRAIN:\", train_index, \"TEST:\", test_index)\n",
        "    X_train, X_test = X[train_index], X[test_index]\n",
        "    y_train, y_test = y[train_index], y[test_index]"
      ],
      "metadata": {
        "colab": {
          "base_uri": "https://localhost:8080/"
        },
        "id": "LI1KNYlN1-kZ",
        "outputId": "8bf73803-fd96-4882-93f8-c02e65f8ed78"
      },
      "execution_count": null,
      "outputs": [
        {
          "output_type": "stream",
          "name": "stdout",
          "text": [
            "TRAIN: [1] TEST: [0]\n",
            "TRAIN: [0] TEST: [1]\n"
          ]
        }
      ]
    },
    {
      "cell_type": "code",
      "source": [
        "import numpy as np\n",
        "from sklearn.model_selection import LeaveOneOut\n",
        "\n",
        "X = np.array([[1, 2], [3, 4], [1, 2], [3, 4]])\n",
        "y = np.array([1, 2, 3, 4])\n",
        "loo = LeaveOneOut()\n",
        "\n",
        "for train_index, test_index in loo.split(X):\n",
        "    print(\"TRAIN:\", train_index, \"TEST:\", test_index)\n",
        "    X_train, X_test = X[train_index], X[test_index]\n",
        "    y_train, y_test = y[train_index], y[test_index]"
      ],
      "metadata": {
        "colab": {
          "base_uri": "https://localhost:8080/"
        },
        "id": "DIvVfkOA2QwY",
        "outputId": "5e8ca8e4-9438-4f8e-d4a3-8d0731770fbb"
      },
      "execution_count": null,
      "outputs": [
        {
          "output_type": "stream",
          "name": "stdout",
          "text": [
            "TRAIN: [1 2 3] TEST: [0]\n",
            "TRAIN: [0 2 3] TEST: [1]\n",
            "TRAIN: [0 1 3] TEST: [2]\n",
            "TRAIN: [0 1 2] TEST: [3]\n"
          ]
        }
      ]
    },
    {
      "cell_type": "markdown",
      "source": [],
      "metadata": {
        "id": "i9LFmoQc3g4D"
      }
    },
    {
      "cell_type": "code",
      "source": [
        "import numpy as np\n",
        "from sklearn.model_selection import LeavePOut\n",
        "\n",
        "X = np.array([[1, 2], [3, 4], [5, 6], [7, 8]])\n",
        "y = np.array([1, 2, 3, 4])\n",
        "lpo = LeavePOut(2)\n",
        "\n",
        "for train_index, test_index in lpo.split(X):\n",
        "    print(\"TRAIN:\", train_index, \"TEST:\", test_index)\n",
        "    X_train, X_test = X[train_index], X[test_index]\n",
        "    y_train, y_test = y[train_index], y[test_index]"
      ],
      "metadata": {
        "colab": {
          "base_uri": "https://localhost:8080/"
        },
        "id": "c3w-QiA73ij_",
        "outputId": "de34d09e-a667-4a29-bb54-c8f57a37a799"
      },
      "execution_count": null,
      "outputs": [
        {
          "output_type": "stream",
          "name": "stdout",
          "text": [
            "TRAIN: [2 3] TEST: [0 1]\n",
            "TRAIN: [1 3] TEST: [0 2]\n",
            "TRAIN: [1 2] TEST: [0 3]\n",
            "TRAIN: [0 3] TEST: [1 2]\n",
            "TRAIN: [0 2] TEST: [1 3]\n",
            "TRAIN: [0 1] TEST: [2 3]\n"
          ]
        }
      ]
    },
    {
      "cell_type": "code",
      "source": [
        "import numpy as np\n",
        "from sklearn.model_selection import StratifiedKFold\n",
        "\n",
        "X = np.array([[1, 2], [3, 4], [1, 2], [3, 4]])\n",
        "y = np.array([0, 0, 1, 1])\n",
        "skf = StratifiedKFold(n_splits=2)\n",
        "\n",
        "for train_index, test_index in skf.split(X, y):\n",
        "    print(\"TRAIN:\", train_index, \"TEST:\", test_index)\n",
        "    X_train, X_test = X[train_index], X[test_index]\n",
        "    y_train, y_test = y[train_index], y[test_index]"
      ],
      "metadata": {
        "colab": {
          "base_uri": "https://localhost:8080/"
        },
        "id": "s3_ASTGE5Rav",
        "outputId": "6ce9feb8-c695-45af-87fe-b80b71d604ea"
      },
      "execution_count": null,
      "outputs": [
        {
          "output_type": "stream",
          "name": "stdout",
          "text": [
            "TRAIN: [1 3] TEST: [0 2]\n",
            "TRAIN: [0 2] TEST: [1 3]\n"
          ]
        }
      ]
    },
    {
      "cell_type": "code",
      "source": [
        "import numpy as np\n",
        "from sklearn.model_selection import StratifiedKFold\n",
        "\n",
        "X = np.array([[1, 2], [3, 4], [1, 2], [3, 4], [5, 6], [5, 6]])\n",
        "y = np.array([0, 0, 1, 1, 2 , 2])\n",
        "skf = StratifiedKFold(n_splits=2)\n",
        "\n",
        "for train_index, test_index in skf.split(X, y):\n",
        "    print(\"TRAIN:\", train_index, \"TEST:\", test_index)\n",
        "    X_train, X_test = X[train_index], X[test_index]\n",
        "    y_train, y_test = y[train_index], y[test_index]"
      ],
      "metadata": {
        "colab": {
          "base_uri": "https://localhost:8080/"
        },
        "id": "qdQT6qbt5z_L",
        "outputId": "78c9c9ee-2e00-490f-f69d-1d6d6fd16f7a"
      },
      "execution_count": null,
      "outputs": [
        {
          "output_type": "stream",
          "name": "stdout",
          "text": [
            "TRAIN: [1 3 5] TEST: [0 2 4]\n",
            "TRAIN: [0 2 4] TEST: [1 3 5]\n"
          ]
        }
      ]
    },
    {
      "cell_type": "code",
      "source": [
        "import numpy as np\n",
        "from sklearn.model_selection import RepeatedKFold\n",
        "\n",
        "X = np.array([[1, 2], [3, 4], [1, 2], [3, 4]])\n",
        "y = np.array([0, 0, 1, 1])\n",
        "rkf = RepeatedKFold(n_splits=2, n_repeats=2, random_state=42)\n",
        "\n",
        "for train_index, test_index in rkf.split(X):\n",
        "    print(\"TRAIN:\", train_index, \"TEST:\", test_index)\n",
        "    X_train, X_test = X[train_index], X[test_index]\n",
        "    y_train, y_test = y[train_index], y[test_index]"
      ],
      "metadata": {
        "colab": {
          "base_uri": "https://localhost:8080/"
        },
        "id": "6fuTRkdI7Nlx",
        "outputId": "983eb441-358e-4597-9096-01a4450c8d5b"
      },
      "execution_count": null,
      "outputs": [
        {
          "output_type": "stream",
          "name": "stdout",
          "text": [
            "TRAIN: [0 2] TEST: [1 3]\n",
            "TRAIN: [1 3] TEST: [0 2]\n",
            "TRAIN: [0 2] TEST: [1 3]\n",
            "TRAIN: [1 3] TEST: [0 2]\n"
          ]
        }
      ]
    }
  ]
}