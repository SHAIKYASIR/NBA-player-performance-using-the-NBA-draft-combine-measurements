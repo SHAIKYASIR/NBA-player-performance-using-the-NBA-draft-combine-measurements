{
  "nbformat": 4,
  "nbformat_minor": 0,
  "metadata": {
    "colab": {
      "provenance": []
    },
    "kernelspec": {
      "name": "python3",
      "display_name": "Python 3"
    },
    "language_info": {
      "name": "python"
    }
  },
  "cells": [
    {
      "cell_type": "code",
      "execution_count": null,
      "metadata": {
        "id": "Dy1h2i5ZD534"
      },
      "outputs": [],
      "source": [
        "def mean(values):\n",
        "    return sum(values)/float(len(values))\n"
      ]
    },
    {
      "cell_type": "code",
      "source": [
        "def variance(values,mean):\n",
        "    return sum([(x-mean)**2 for x in values])\n"
      ],
      "metadata": {
        "id": "0RxX86JUD_fS"
      },
      "execution_count": null,
      "outputs": []
    },
    {
      "cell_type": "code",
      "source": [
        "def covariance(x,mean_x,y,mean_y):\n",
        "    covar=0.0\n",
        "    for i in range(len(x)):\n",
        "        covar+=(x[i]-mean_x) * (y[i]-mean_y)\n",
        "    return covar\n"
      ],
      "metadata": {
        "id": "5wZptpQQECGZ"
      },
      "execution_count": null,
      "outputs": []
    },
    {
      "cell_type": "code",
      "source": [
        "def coefficients(dataset):\n",
        "    b1=covariance(x,mean_x,y,mean_y)/variance(x,mean_x)\n",
        "    b0=mean_y-b1*mean_x\n",
        "    return[b0,b1]\n"
      ],
      "metadata": {
        "id": "C5MSnCr0EE3Y"
      },
      "execution_count": null,
      "outputs": []
    },
    {
      "cell_type": "code",
      "source": [
        "def simple_linear_regression(train,test):\n",
        "    for row in test:\n",
        "        ytest = b0 + b1 * row[0]\n",
        "    return ytest\n"
      ],
      "metadata": {
        "id": "ESrRdgLkEIb2"
      },
      "execution_count": null,
      "outputs": []
    },
    {
      "cell_type": "code",
      "source": [
        "dataset=[[40,38],[50,60],[38,55],[60,70],[65,60],[50,48],[35,30]]\n",
        "x=[row[0] for row in dataset]\n",
        "y=[row[1] for row in dataset]\n",
        "mean_x=mean(x)\n",
        "mean_y=mean(y)\n"
      ],
      "metadata": {
        "id": "UJgdWbuAEMKu"
      },
      "execution_count": null,
      "outputs": []
    },
    {
      "cell_type": "code",
      "source": [
        "variance_x=variance(x,mean_x)\n",
        "variance_y=variance(y,mean_y)\n",
        "print('x stats:mean=%.3f variance=%.3f' % (mean_x,variance_x))\n",
        "print('y stats:mean=%.3f variance=%.3f' % (mean_y,variance_y))\n"
      ],
      "metadata": {
        "colab": {
          "base_uri": "https://localhost:8080/"
        },
        "id": "3sbUmG2zEQGC",
        "outputId": "108d8a1d-0705-40bf-ab4b-5b54393ab573"
      },
      "execution_count": null,
      "outputs": [
        {
          "output_type": "stream",
          "name": "stdout",
          "text": [
            "x stats:mean=48.286 variance=773.429\n",
            "y stats:mean=51.571 variance=1155.714\n"
          ]
        }
      ]
    },
    {
      "cell_type": "code",
      "source": [
        "covar = covariance(x,mean_x,y,mean_y)\n",
        "print('covariance: %.3f' % (covar))\n"
      ],
      "metadata": {
        "colab": {
          "base_uri": "https://localhost:8080/"
        },
        "id": "dtmAZh-5EU_Y",
        "outputId": "0acdfd68-6e4c-433c-e029-ced4c6488037"
      },
      "execution_count": null,
      "outputs": [
        {
          "output_type": "stream",
          "name": "stdout",
          "text": [
            "covariance: 728.857\n"
          ]
        }
      ]
    },
    {
      "cell_type": "code",
      "source": [
        "b0,b1 = coefficients(dataset)\n",
        "print('coefficients:b0=%.3f,b1=%.3f' % (b0,b1))\n",
        "print('Regression equation of y on x : y=%.3f+%.3fx '% (b0, b1))\n"
      ],
      "metadata": {
        "colab": {
          "base_uri": "https://localhost:8080/"
        },
        "id": "p-xi8GFGEY9S",
        "outputId": "369feb20-3594-434d-a0b9-10fb429dcebb"
      },
      "execution_count": null,
      "outputs": [
        {
          "output_type": "stream",
          "name": "stdout",
          "text": [
            "coefficients:b0=6.068,b1=0.942\n",
            "Regression equation of y on x : y=6.068+0.942x \n"
          ]
        }
      ]
    },
    {
      "cell_type": "code",
      "source": [
        "test=[[55]]\n",
        "result=simple_linear_regression(dataset,test)\n",
        "print('Value of y when x=55 is %.3f' % (result))\n"
      ],
      "metadata": {
        "colab": {
          "base_uri": "https://localhost:8080/"
        },
        "id": "i_wynUNjEcES",
        "outputId": "baf78d63-0c9f-48d5-8d48-9a37bc7ead0b"
      },
      "execution_count": null,
      "outputs": [
        {
          "output_type": "stream",
          "name": "stdout",
          "text": [
            "Value of y when x=55 is 57.899\n"
          ]
        }
      ]
    },
    {
      "cell_type": "code",
      "source": [
        "import numpy as np\n",
        "from sklearn.linear_model import LinearRegression\n",
        "dataset=[[40,38],[50,60],[38,55],[60,70],[65,60],[50,48],[35,30]]\n",
        "x=np.array([row[0] for row in dataset]).reshape(-1,1)\n",
        "y=np.array([row[1] for row in dataset])\n",
        "model = LinearRegression()\n",
        "model.fit(x, y)\n"
      ],
      "metadata": {
        "colab": {
          "base_uri": "https://localhost:8080/",
          "height": 75
        },
        "id": "g3oDLS1AEjba",
        "outputId": "79f14a19-a8b9-4b79-dd68-7cf5d86cbf18"
      },
      "execution_count": null,
      "outputs": [
        {
          "output_type": "execute_result",
          "data": {
            "text/plain": [
              "LinearRegression()"
            ],
            "text/html": [
              "<style>#sk-container-id-1 {color: black;background-color: white;}#sk-container-id-1 pre{padding: 0;}#sk-container-id-1 div.sk-toggleable {background-color: white;}#sk-container-id-1 label.sk-toggleable__label {cursor: pointer;display: block;width: 100%;margin-bottom: 0;padding: 0.3em;box-sizing: border-box;text-align: center;}#sk-container-id-1 label.sk-toggleable__label-arrow:before {content: \"▸\";float: left;margin-right: 0.25em;color: #696969;}#sk-container-id-1 label.sk-toggleable__label-arrow:hover:before {color: black;}#sk-container-id-1 div.sk-estimator:hover label.sk-toggleable__label-arrow:before {color: black;}#sk-container-id-1 div.sk-toggleable__content {max-height: 0;max-width: 0;overflow: hidden;text-align: left;background-color: #f0f8ff;}#sk-container-id-1 div.sk-toggleable__content pre {margin: 0.2em;color: black;border-radius: 0.25em;background-color: #f0f8ff;}#sk-container-id-1 input.sk-toggleable__control:checked~div.sk-toggleable__content {max-height: 200px;max-width: 100%;overflow: auto;}#sk-container-id-1 input.sk-toggleable__control:checked~label.sk-toggleable__label-arrow:before {content: \"▾\";}#sk-container-id-1 div.sk-estimator input.sk-toggleable__control:checked~label.sk-toggleable__label {background-color: #d4ebff;}#sk-container-id-1 div.sk-label input.sk-toggleable__control:checked~label.sk-toggleable__label {background-color: #d4ebff;}#sk-container-id-1 input.sk-hidden--visually {border: 0;clip: rect(1px 1px 1px 1px);clip: rect(1px, 1px, 1px, 1px);height: 1px;margin: -1px;overflow: hidden;padding: 0;position: absolute;width: 1px;}#sk-container-id-1 div.sk-estimator {font-family: monospace;background-color: #f0f8ff;border: 1px dotted black;border-radius: 0.25em;box-sizing: border-box;margin-bottom: 0.5em;}#sk-container-id-1 div.sk-estimator:hover {background-color: #d4ebff;}#sk-container-id-1 div.sk-parallel-item::after {content: \"\";width: 100%;border-bottom: 1px solid gray;flex-grow: 1;}#sk-container-id-1 div.sk-label:hover label.sk-toggleable__label {background-color: #d4ebff;}#sk-container-id-1 div.sk-serial::before {content: \"\";position: absolute;border-left: 1px solid gray;box-sizing: border-box;top: 0;bottom: 0;left: 50%;z-index: 0;}#sk-container-id-1 div.sk-serial {display: flex;flex-direction: column;align-items: center;background-color: white;padding-right: 0.2em;padding-left: 0.2em;position: relative;}#sk-container-id-1 div.sk-item {position: relative;z-index: 1;}#sk-container-id-1 div.sk-parallel {display: flex;align-items: stretch;justify-content: center;background-color: white;position: relative;}#sk-container-id-1 div.sk-item::before, #sk-container-id-1 div.sk-parallel-item::before {content: \"\";position: absolute;border-left: 1px solid gray;box-sizing: border-box;top: 0;bottom: 0;left: 50%;z-index: -1;}#sk-container-id-1 div.sk-parallel-item {display: flex;flex-direction: column;z-index: 1;position: relative;background-color: white;}#sk-container-id-1 div.sk-parallel-item:first-child::after {align-self: flex-end;width: 50%;}#sk-container-id-1 div.sk-parallel-item:last-child::after {align-self: flex-start;width: 50%;}#sk-container-id-1 div.sk-parallel-item:only-child::after {width: 0;}#sk-container-id-1 div.sk-dashed-wrapped {border: 1px dashed gray;margin: 0 0.4em 0.5em 0.4em;box-sizing: border-box;padding-bottom: 0.4em;background-color: white;}#sk-container-id-1 div.sk-label label {font-family: monospace;font-weight: bold;display: inline-block;line-height: 1.2em;}#sk-container-id-1 div.sk-label-container {text-align: center;}#sk-container-id-1 div.sk-container {/* jupyter's `normalize.less` sets `[hidden] { display: none; }` but bootstrap.min.css set `[hidden] { display: none !important; }` so we also need the `!important` here to be able to override the default hidden behavior on the sphinx rendered scikit-learn.org. See: https://github.com/scikit-learn/scikit-learn/issues/21755 */display: inline-block !important;position: relative;}#sk-container-id-1 div.sk-text-repr-fallback {display: none;}</style><div id=\"sk-container-id-1\" class=\"sk-top-container\"><div class=\"sk-text-repr-fallback\"><pre>LinearRegression()</pre><b>In a Jupyter environment, please rerun this cell to show the HTML representation or trust the notebook. <br />On GitHub, the HTML representation is unable to render, please try loading this page with nbviewer.org.</b></div><div class=\"sk-container\" hidden><div class=\"sk-item\"><div class=\"sk-estimator sk-toggleable\"><input class=\"sk-toggleable__control sk-hidden--visually\" id=\"sk-estimator-id-1\" type=\"checkbox\" checked><label for=\"sk-estimator-id-1\" class=\"sk-toggleable__label sk-toggleable__label-arrow\">LinearRegression</label><div class=\"sk-toggleable__content\"><pre>LinearRegression()</pre></div></div></div></div></div>"
            ]
          },
          "metadata": {},
          "execution_count": 11
        }
      ]
    },
    {
      "cell_type": "code",
      "source": [
        "r_sq = model.score(x, y)\n",
        "print('coefficient of determination:', r_sq)\n"
      ],
      "metadata": {
        "colab": {
          "base_uri": "https://localhost:8080/"
        },
        "id": "klusWIocEoWf",
        "outputId": "818ed1ab-66da-428f-d5fd-cbb256f1c0ed"
      },
      "execution_count": null,
      "outputs": [
        {
          "output_type": "stream",
          "name": "stdout",
          "text": [
            "coefficient of determination: 0.5943115020664733\n"
          ]
        }
      ]
    },
    {
      "cell_type": "code",
      "source": [
        "print('intercept:', model.intercept_)\n",
        "print('slope:', model.coef_)\n"
      ],
      "metadata": {
        "colab": {
          "base_uri": "https://localhost:8080/"
        },
        "id": "LWUkgW-BEtA5",
        "outputId": "af4bfc9d-8fff-4bd3-c70c-5d0f34adfbe5"
      },
      "execution_count": null,
      "outputs": [
        {
          "output_type": "stream",
          "name": "stdout",
          "text": [
            "intercept: 6.068341337273729\n",
            "slope: [0.94237163]\n"
          ]
        }
      ]
    },
    {
      "cell_type": "code",
      "source": [
        "y_pred = model.predict([[55]])\n",
        "print('predicted response:', y_pred)\n"
      ],
      "metadata": {
        "colab": {
          "base_uri": "https://localhost:8080/"
        },
        "id": "X-RQiw1mExU-",
        "outputId": "e5b39930-7b56-4447-d8ce-2a2891596abb"
      },
      "execution_count": null,
      "outputs": [
        {
          "output_type": "stream",
          "name": "stdout",
          "text": [
            "predicted response: [57.89878094]\n"
          ]
        }
      ]
    }
  ]
}